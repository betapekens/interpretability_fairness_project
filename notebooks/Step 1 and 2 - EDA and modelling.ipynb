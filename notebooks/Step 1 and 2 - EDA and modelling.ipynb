{
 "cells": [
  {
   "cell_type": "code",
   "execution_count": 1,
   "metadata": {},
   "outputs": [],
   "source": [
    "import pandas as pd\n",
    "import numpy as np\n",
    "import seaborn as sns\n",
    "from sklearn.preprocessing import MinMaxScaler, LabelEncoder\n",
    "from sklearn.model_selection import train_test_split, StratifiedKFold\n",
    "from xgboost import XGBClassifier\n",
    "from collections import Counter\n",
    "from sklearn.metrics import roc_auc_score, confusion_matrix\n",
    "from imblearn.over_sampling import SMOTE"
   ]
  },
  {
   "cell_type": "code",
   "execution_count": 2,
   "metadata": {},
   "outputs": [
    {
     "name": "stdout",
     "output_type": "stream",
     "text": [
      "/Users/steve/Documents/DSB_M2/Algo_fairness_interpretability/interpretability_fairness_project\n"
     ]
    }
   ],
   "source": [
    "cd .."
   ]
  },
  {
   "cell_type": "code",
   "execution_count": 3,
   "metadata": {},
   "outputs": [],
   "source": [
    "pd.set_option(\"display.max_columns\", None)"
   ]
  },
  {
   "cell_type": "code",
   "execution_count": 4,
   "metadata": {},
   "outputs": [],
   "source": [
    "dataset = pd.read_csv(\"data/train.csv\", index_col=0)"
   ]
  },
  {
   "cell_type": "code",
   "execution_count": 5,
   "metadata": {},
   "outputs": [
    {
     "data": {
      "text/html": [
       "<div>\n",
       "<style scoped>\n",
       "    .dataframe tbody tr th:only-of-type {\n",
       "        vertical-align: middle;\n",
       "    }\n",
       "\n",
       "    .dataframe tbody tr th {\n",
       "        vertical-align: top;\n",
       "    }\n",
       "\n",
       "    .dataframe thead th {\n",
       "        text-align: right;\n",
       "    }\n",
       "</style>\n",
       "<table border=\"1\" class=\"dataframe\">\n",
       "  <thead>\n",
       "    <tr style=\"text-align: right;\">\n",
       "      <th></th>\n",
       "      <th>A1_Score</th>\n",
       "      <th>A2_Score</th>\n",
       "      <th>A3_Score</th>\n",
       "      <th>A4_Score</th>\n",
       "      <th>A5_Score</th>\n",
       "      <th>A6_Score</th>\n",
       "      <th>A7_Score</th>\n",
       "      <th>A8_Score</th>\n",
       "      <th>A9_Score</th>\n",
       "      <th>A10_Score</th>\n",
       "      <th>age</th>\n",
       "      <th>gender</th>\n",
       "      <th>ethnicity</th>\n",
       "      <th>jaundice</th>\n",
       "      <th>austim</th>\n",
       "      <th>contry_of_res</th>\n",
       "      <th>used_app_before</th>\n",
       "      <th>result</th>\n",
       "      <th>age_desc</th>\n",
       "      <th>relation</th>\n",
       "      <th>Class/ASD</th>\n",
       "    </tr>\n",
       "    <tr>\n",
       "      <th>ID</th>\n",
       "      <th></th>\n",
       "      <th></th>\n",
       "      <th></th>\n",
       "      <th></th>\n",
       "      <th></th>\n",
       "      <th></th>\n",
       "      <th></th>\n",
       "      <th></th>\n",
       "      <th></th>\n",
       "      <th></th>\n",
       "      <th></th>\n",
       "      <th></th>\n",
       "      <th></th>\n",
       "      <th></th>\n",
       "      <th></th>\n",
       "      <th></th>\n",
       "      <th></th>\n",
       "      <th></th>\n",
       "      <th></th>\n",
       "      <th></th>\n",
       "      <th></th>\n",
       "    </tr>\n",
       "  </thead>\n",
       "  <tbody>\n",
       "    <tr>\n",
       "      <th>1</th>\n",
       "      <td>1</td>\n",
       "      <td>0</td>\n",
       "      <td>1</td>\n",
       "      <td>0</td>\n",
       "      <td>1</td>\n",
       "      <td>0</td>\n",
       "      <td>1</td>\n",
       "      <td>0</td>\n",
       "      <td>1</td>\n",
       "      <td>1</td>\n",
       "      <td>38.172746</td>\n",
       "      <td>f</td>\n",
       "      <td>?</td>\n",
       "      <td>no</td>\n",
       "      <td>no</td>\n",
       "      <td>Austria</td>\n",
       "      <td>no</td>\n",
       "      <td>6.351166</td>\n",
       "      <td>18 and more</td>\n",
       "      <td>Self</td>\n",
       "      <td>0</td>\n",
       "    </tr>\n",
       "    <tr>\n",
       "      <th>2</th>\n",
       "      <td>0</td>\n",
       "      <td>0</td>\n",
       "      <td>0</td>\n",
       "      <td>0</td>\n",
       "      <td>0</td>\n",
       "      <td>0</td>\n",
       "      <td>0</td>\n",
       "      <td>0</td>\n",
       "      <td>0</td>\n",
       "      <td>0</td>\n",
       "      <td>47.750517</td>\n",
       "      <td>m</td>\n",
       "      <td>?</td>\n",
       "      <td>no</td>\n",
       "      <td>no</td>\n",
       "      <td>India</td>\n",
       "      <td>no</td>\n",
       "      <td>2.255185</td>\n",
       "      <td>18 and more</td>\n",
       "      <td>Self</td>\n",
       "      <td>0</td>\n",
       "    </tr>\n",
       "    <tr>\n",
       "      <th>3</th>\n",
       "      <td>1</td>\n",
       "      <td>1</td>\n",
       "      <td>1</td>\n",
       "      <td>1</td>\n",
       "      <td>1</td>\n",
       "      <td>1</td>\n",
       "      <td>1</td>\n",
       "      <td>1</td>\n",
       "      <td>1</td>\n",
       "      <td>1</td>\n",
       "      <td>7.380373</td>\n",
       "      <td>m</td>\n",
       "      <td>White-European</td>\n",
       "      <td>no</td>\n",
       "      <td>yes</td>\n",
       "      <td>United States</td>\n",
       "      <td>no</td>\n",
       "      <td>14.851484</td>\n",
       "      <td>18 and more</td>\n",
       "      <td>Self</td>\n",
       "      <td>1</td>\n",
       "    </tr>\n",
       "    <tr>\n",
       "      <th>4</th>\n",
       "      <td>0</td>\n",
       "      <td>0</td>\n",
       "      <td>0</td>\n",
       "      <td>0</td>\n",
       "      <td>0</td>\n",
       "      <td>0</td>\n",
       "      <td>0</td>\n",
       "      <td>0</td>\n",
       "      <td>0</td>\n",
       "      <td>0</td>\n",
       "      <td>23.561927</td>\n",
       "      <td>f</td>\n",
       "      <td>?</td>\n",
       "      <td>no</td>\n",
       "      <td>no</td>\n",
       "      <td>United States</td>\n",
       "      <td>no</td>\n",
       "      <td>2.276617</td>\n",
       "      <td>18 and more</td>\n",
       "      <td>Self</td>\n",
       "      <td>0</td>\n",
       "    </tr>\n",
       "    <tr>\n",
       "      <th>5</th>\n",
       "      <td>0</td>\n",
       "      <td>0</td>\n",
       "      <td>0</td>\n",
       "      <td>0</td>\n",
       "      <td>0</td>\n",
       "      <td>0</td>\n",
       "      <td>0</td>\n",
       "      <td>0</td>\n",
       "      <td>0</td>\n",
       "      <td>0</td>\n",
       "      <td>43.205790</td>\n",
       "      <td>m</td>\n",
       "      <td>?</td>\n",
       "      <td>no</td>\n",
       "      <td>no</td>\n",
       "      <td>South Africa</td>\n",
       "      <td>no</td>\n",
       "      <td>-4.777286</td>\n",
       "      <td>18 and more</td>\n",
       "      <td>Self</td>\n",
       "      <td>0</td>\n",
       "    </tr>\n",
       "    <tr>\n",
       "      <th>...</th>\n",
       "      <td>...</td>\n",
       "      <td>...</td>\n",
       "      <td>...</td>\n",
       "      <td>...</td>\n",
       "      <td>...</td>\n",
       "      <td>...</td>\n",
       "      <td>...</td>\n",
       "      <td>...</td>\n",
       "      <td>...</td>\n",
       "      <td>...</td>\n",
       "      <td>...</td>\n",
       "      <td>...</td>\n",
       "      <td>...</td>\n",
       "      <td>...</td>\n",
       "      <td>...</td>\n",
       "      <td>...</td>\n",
       "      <td>...</td>\n",
       "      <td>...</td>\n",
       "      <td>...</td>\n",
       "      <td>...</td>\n",
       "      <td>...</td>\n",
       "    </tr>\n",
       "    <tr>\n",
       "      <th>796</th>\n",
       "      <td>0</td>\n",
       "      <td>1</td>\n",
       "      <td>0</td>\n",
       "      <td>0</td>\n",
       "      <td>0</td>\n",
       "      <td>0</td>\n",
       "      <td>0</td>\n",
       "      <td>0</td>\n",
       "      <td>1</td>\n",
       "      <td>1</td>\n",
       "      <td>16.597187</td>\n",
       "      <td>m</td>\n",
       "      <td>Hispanic</td>\n",
       "      <td>no</td>\n",
       "      <td>no</td>\n",
       "      <td>New Zealand</td>\n",
       "      <td>no</td>\n",
       "      <td>12.999501</td>\n",
       "      <td>18 and more</td>\n",
       "      <td>Self</td>\n",
       "      <td>0</td>\n",
       "    </tr>\n",
       "    <tr>\n",
       "      <th>797</th>\n",
       "      <td>0</td>\n",
       "      <td>1</td>\n",
       "      <td>1</td>\n",
       "      <td>0</td>\n",
       "      <td>0</td>\n",
       "      <td>1</td>\n",
       "      <td>0</td>\n",
       "      <td>1</td>\n",
       "      <td>1</td>\n",
       "      <td>1</td>\n",
       "      <td>20.703001</td>\n",
       "      <td>m</td>\n",
       "      <td>White-European</td>\n",
       "      <td>no</td>\n",
       "      <td>no</td>\n",
       "      <td>Cyprus</td>\n",
       "      <td>no</td>\n",
       "      <td>13.561518</td>\n",
       "      <td>18 and more</td>\n",
       "      <td>Self</td>\n",
       "      <td>0</td>\n",
       "    </tr>\n",
       "    <tr>\n",
       "      <th>798</th>\n",
       "      <td>0</td>\n",
       "      <td>0</td>\n",
       "      <td>0</td>\n",
       "      <td>0</td>\n",
       "      <td>0</td>\n",
       "      <td>0</td>\n",
       "      <td>0</td>\n",
       "      <td>0</td>\n",
       "      <td>0</td>\n",
       "      <td>0</td>\n",
       "      <td>5.711481</td>\n",
       "      <td>m</td>\n",
       "      <td>South Asian</td>\n",
       "      <td>yes</td>\n",
       "      <td>no</td>\n",
       "      <td>New Zealand</td>\n",
       "      <td>no</td>\n",
       "      <td>2.653177</td>\n",
       "      <td>18 and more</td>\n",
       "      <td>Self</td>\n",
       "      <td>0</td>\n",
       "    </tr>\n",
       "    <tr>\n",
       "      <th>799</th>\n",
       "      <td>0</td>\n",
       "      <td>0</td>\n",
       "      <td>0</td>\n",
       "      <td>0</td>\n",
       "      <td>0</td>\n",
       "      <td>0</td>\n",
       "      <td>0</td>\n",
       "      <td>0</td>\n",
       "      <td>0</td>\n",
       "      <td>0</td>\n",
       "      <td>16.414305</td>\n",
       "      <td>f</td>\n",
       "      <td>?</td>\n",
       "      <td>no</td>\n",
       "      <td>no</td>\n",
       "      <td>Canada</td>\n",
       "      <td>no</td>\n",
       "      <td>9.069342</td>\n",
       "      <td>18 and more</td>\n",
       "      <td>Self</td>\n",
       "      <td>0</td>\n",
       "    </tr>\n",
       "    <tr>\n",
       "      <th>800</th>\n",
       "      <td>0</td>\n",
       "      <td>1</td>\n",
       "      <td>0</td>\n",
       "      <td>0</td>\n",
       "      <td>0</td>\n",
       "      <td>0</td>\n",
       "      <td>0</td>\n",
       "      <td>0</td>\n",
       "      <td>0</td>\n",
       "      <td>0</td>\n",
       "      <td>46.966113</td>\n",
       "      <td>f</td>\n",
       "      <td>?</td>\n",
       "      <td>no</td>\n",
       "      <td>no</td>\n",
       "      <td>United Arab Emirates</td>\n",
       "      <td>yes</td>\n",
       "      <td>2.243304</td>\n",
       "      <td>18 and more</td>\n",
       "      <td>Self</td>\n",
       "      <td>0</td>\n",
       "    </tr>\n",
       "  </tbody>\n",
       "</table>\n",
       "<p>800 rows × 21 columns</p>\n",
       "</div>"
      ],
      "text/plain": [
       "     A1_Score  A2_Score  A3_Score  A4_Score  A5_Score  A6_Score  A7_Score   \n",
       "ID                                                                          \n",
       "1           1         0         1         0         1         0         1  \\\n",
       "2           0         0         0         0         0         0         0   \n",
       "3           1         1         1         1         1         1         1   \n",
       "4           0         0         0         0         0         0         0   \n",
       "5           0         0         0         0         0         0         0   \n",
       "..        ...       ...       ...       ...       ...       ...       ...   \n",
       "796         0         1         0         0         0         0         0   \n",
       "797         0         1         1         0         0         1         0   \n",
       "798         0         0         0         0         0         0         0   \n",
       "799         0         0         0         0         0         0         0   \n",
       "800         0         1         0         0         0         0         0   \n",
       "\n",
       "     A8_Score  A9_Score  A10_Score        age gender       ethnicity jaundice   \n",
       "ID                                                                              \n",
       "1           0         1          1  38.172746      f               ?       no  \\\n",
       "2           0         0          0  47.750517      m               ?       no   \n",
       "3           1         1          1   7.380373      m  White-European       no   \n",
       "4           0         0          0  23.561927      f               ?       no   \n",
       "5           0         0          0  43.205790      m               ?       no   \n",
       "..        ...       ...        ...        ...    ...             ...      ...   \n",
       "796         0         1          1  16.597187      m        Hispanic       no   \n",
       "797         1         1          1  20.703001      m  White-European       no   \n",
       "798         0         0          0   5.711481      m     South Asian      yes   \n",
       "799         0         0          0  16.414305      f               ?       no   \n",
       "800         0         0          0  46.966113      f               ?       no   \n",
       "\n",
       "    austim         contry_of_res used_app_before     result     age_desc   \n",
       "ID                                                                         \n",
       "1       no               Austria              no   6.351166  18 and more  \\\n",
       "2       no                 India              no   2.255185  18 and more   \n",
       "3      yes         United States              no  14.851484  18 and more   \n",
       "4       no         United States              no   2.276617  18 and more   \n",
       "5       no          South Africa              no  -4.777286  18 and more   \n",
       "..     ...                   ...             ...        ...          ...   \n",
       "796     no           New Zealand              no  12.999501  18 and more   \n",
       "797     no                Cyprus              no  13.561518  18 and more   \n",
       "798     no           New Zealand              no   2.653177  18 and more   \n",
       "799     no                Canada              no   9.069342  18 and more   \n",
       "800     no  United Arab Emirates             yes   2.243304  18 and more   \n",
       "\n",
       "    relation  Class/ASD  \n",
       "ID                       \n",
       "1       Self          0  \n",
       "2       Self          0  \n",
       "3       Self          1  \n",
       "4       Self          0  \n",
       "5       Self          0  \n",
       "..       ...        ...  \n",
       "796     Self          0  \n",
       "797     Self          0  \n",
       "798     Self          0  \n",
       "799     Self          0  \n",
       "800     Self          0  \n",
       "\n",
       "[800 rows x 21 columns]"
      ]
     },
     "execution_count": 5,
     "metadata": {},
     "output_type": "execute_result"
    }
   ],
   "source": [
    "dataset"
   ]
  },
  {
   "cell_type": "code",
   "execution_count": 6,
   "metadata": {},
   "outputs": [
    {
     "name": "stdout",
     "output_type": "stream",
     "text": [
      "<class 'pandas.core.frame.DataFrame'>\n",
      "Index: 800 entries, 1 to 800\n",
      "Data columns (total 21 columns):\n",
      " #   Column           Non-Null Count  Dtype  \n",
      "---  ------           --------------  -----  \n",
      " 0   A1_Score         800 non-null    int64  \n",
      " 1   A2_Score         800 non-null    int64  \n",
      " 2   A3_Score         800 non-null    int64  \n",
      " 3   A4_Score         800 non-null    int64  \n",
      " 4   A5_Score         800 non-null    int64  \n",
      " 5   A6_Score         800 non-null    int64  \n",
      " 6   A7_Score         800 non-null    int64  \n",
      " 7   A8_Score         800 non-null    int64  \n",
      " 8   A9_Score         800 non-null    int64  \n",
      " 9   A10_Score        800 non-null    int64  \n",
      " 10  age              800 non-null    float64\n",
      " 11  gender           800 non-null    object \n",
      " 12  ethnicity        800 non-null    object \n",
      " 13  jaundice         800 non-null    object \n",
      " 14  austim           800 non-null    object \n",
      " 15  contry_of_res    800 non-null    object \n",
      " 16  used_app_before  800 non-null    object \n",
      " 17  result           800 non-null    float64\n",
      " 18  age_desc         800 non-null    object \n",
      " 19  relation         800 non-null    object \n",
      " 20  Class/ASD        800 non-null    int64  \n",
      "dtypes: float64(2), int64(11), object(8)\n",
      "memory usage: 137.5+ KB\n"
     ]
    }
   ],
   "source": [
    "dataset.info()"
   ]
  },
  {
   "cell_type": "code",
   "execution_count": 7,
   "metadata": {},
   "outputs": [
    {
     "data": {
      "text/plain": [
       "Counter({0: 639, 1: 161})"
      ]
     },
     "execution_count": 7,
     "metadata": {},
     "output_type": "execute_result"
    }
   ],
   "source": [
    "Counter(dataset[\"Class/ASD\"])"
   ]
  },
  {
   "cell_type": "code",
   "execution_count": 8,
   "metadata": {},
   "outputs": [
    {
     "data": {
      "text/plain": [
       "Index(['A1_Score', 'A2_Score', 'A3_Score', 'A4_Score', 'A5_Score', 'A6_Score',\n",
       "       'A7_Score', 'A8_Score', 'A9_Score', 'A10_Score', 'age', 'gender',\n",
       "       'ethnicity', 'jaundice', 'austim', 'contry_of_res', 'used_app_before',\n",
       "       'result', 'age_desc', 'relation', 'Class/ASD'],\n",
       "      dtype='object')"
      ]
     },
     "execution_count": 8,
     "metadata": {},
     "output_type": "execute_result"
    }
   ],
   "source": [
    "dataset.columns"
   ]
  },
  {
   "cell_type": "markdown",
   "metadata": {},
   "source": [
    "## Missing Values"
   ]
  },
  {
   "cell_type": "code",
   "execution_count": 9,
   "metadata": {},
   "outputs": [
    {
     "data": {
      "text/plain": [
       "ethnicity\n",
       "White-European     257\n",
       "?                  203\n",
       "Middle Eastern      97\n",
       "Asian               67\n",
       "Black               47\n",
       "South Asian         34\n",
       "Pasifika            32\n",
       "Others              29\n",
       "Latino              17\n",
       "Hispanic             9\n",
       "Turkish              5\n",
       "others               3\n",
       "Name: count, dtype: int64"
      ]
     },
     "execution_count": 9,
     "metadata": {},
     "output_type": "execute_result"
    }
   ],
   "source": [
    "df_raw = pd.read_csv(\"data/train.csv\")\n",
    "df_raw[\"ethnicity\"].value_counts()"
   ]
  },
  {
   "cell_type": "code",
   "execution_count": 10,
   "metadata": {},
   "outputs": [
    {
     "data": {
      "text/plain": [
       "ID                   0\n",
       "A1_Score             0\n",
       "A2_Score             0\n",
       "A3_Score             0\n",
       "A4_Score             0\n",
       "A5_Score             0\n",
       "A6_Score             0\n",
       "A7_Score             0\n",
       "A8_Score             0\n",
       "A9_Score             0\n",
       "A10_Score            0\n",
       "age                  0\n",
       "gender               0\n",
       "ethnicity          203\n",
       "jaundice             0\n",
       "austim               0\n",
       "contry_of_res        0\n",
       "used_app_before      0\n",
       "result               0\n",
       "age_desc             0\n",
       "relation            40\n",
       "Class/ASD            0\n",
       "dtype: int64"
      ]
     },
     "execution_count": 10,
     "metadata": {},
     "output_type": "execute_result"
    }
   ],
   "source": [
    "(df_raw == \"?\").sum()"
   ]
  },
  {
   "cell_type": "code",
   "execution_count": 11,
   "metadata": {},
   "outputs": [
    {
     "data": {
      "text/plain": [
       "age_desc\n",
       "18 and more    800\n",
       "Name: count, dtype: int64"
      ]
     },
     "execution_count": 11,
     "metadata": {},
     "output_type": "execute_result"
    }
   ],
   "source": [
    "df_raw[\"age_desc\"].value_counts()"
   ]
  },
  {
   "cell_type": "markdown",
   "metadata": {},
   "source": [
    "# Label encoding"
   ]
  },
  {
   "cell_type": "code",
   "execution_count": 12,
   "metadata": {},
   "outputs": [],
   "source": [
    "cat = dataset.select_dtypes(['object']).columns \n",
    "encoding_dict = dict()\n",
    "for c in cat:\n",
    "    encoder = LabelEncoder()\n",
    "    dataset[c] = encoder.fit_transform(dataset[c])\n"
   ]
  },
  {
   "cell_type": "markdown",
   "metadata": {},
   "source": [
    "# Histogram"
   ]
  },
  {
   "cell_type": "code",
   "execution_count": 13,
   "metadata": {},
   "outputs": [
    {
     "name": "stderr",
     "output_type": "stream",
     "text": [
      "/Users/steve/miniconda3/lib/python3.9/site-packages/pandas/plotting/_matplotlib/misc.py:101: UserWarning: Attempting to set identical low and high xlims makes transformation singular; automatically expanding.\n",
      "  ax.set_xlim(boundaries_list[j])\n",
      "/Users/steve/miniconda3/lib/python3.9/site-packages/pandas/plotting/_matplotlib/misc.py:102: UserWarning: Attempting to set identical low and high ylims makes transformation singular; automatically expanding.\n",
      "  ax.set_ylim(boundaries_list[i])\n",
      "/Users/steve/miniconda3/lib/python3.9/site-packages/pandas/plotting/_matplotlib/misc.py:92: UserWarning: Attempting to set identical low and high xlims makes transformation singular; automatically expanding.\n",
      "  ax.set_xlim(boundaries_list[i])\n"
     ]
    },
    {
     "data": {
      "image/png": "[encoded data removed]",
      "text/plain": [
       "<Figure size 432x288 with 441 Axes>"
      ]
     },
     "metadata": {
      "needs_background": "light"
     },
     "output_type": "display_data"
    }
   ],
   "source": [
    "from pandas.plotting import scatter_matrix\n",
    "scatter_matrix(dataset);"
   ]
  },
  {
   "cell_type": "code",
   "execution_count": 14,
   "metadata": {},
   "outputs": [
    {
     "data": {
      "text/html": [
       "<div>\n",
       "<style scoped>\n",
       "    .dataframe tbody tr th:only-of-type {\n",
       "        vertical-align: middle;\n",
       "    }\n",
       "\n",
       "    .dataframe tbody tr th {\n",
       "        vertical-align: top;\n",
       "    }\n",
       "\n",
       "    .dataframe thead th {\n",
       "        text-align: right;\n",
       "    }\n",
       "</style>\n",
       "<table border=\"1\" class=\"dataframe\">\n",
       "  <thead>\n",
       "    <tr style=\"text-align: right;\">\n",
       "      <th></th>\n",
       "      <th>A1_Score</th>\n",
       "      <th>A2_Score</th>\n",
       "      <th>A3_Score</th>\n",
       "      <th>A4_Score</th>\n",
       "      <th>A5_Score</th>\n",
       "      <th>A6_Score</th>\n",
       "      <th>A7_Score</th>\n",
       "      <th>A8_Score</th>\n",
       "      <th>A9_Score</th>\n",
       "      <th>A10_Score</th>\n",
       "    </tr>\n",
       "  </thead>\n",
       "  <tbody>\n",
       "    <tr>\n",
       "      <th>0</th>\n",
       "      <td>352</td>\n",
       "      <td>376</td>\n",
       "      <td>440</td>\n",
       "      <td>468</td>\n",
       "      <td>484</td>\n",
       "      <td>557</td>\n",
       "      <td>482</td>\n",
       "      <td>393</td>\n",
       "      <td>404</td>\n",
       "      <td>306</td>\n",
       "    </tr>\n",
       "    <tr>\n",
       "      <th>1</th>\n",
       "      <td>448</td>\n",
       "      <td>424</td>\n",
       "      <td>360</td>\n",
       "      <td>332</td>\n",
       "      <td>316</td>\n",
       "      <td>243</td>\n",
       "      <td>318</td>\n",
       "      <td>407</td>\n",
       "      <td>396</td>\n",
       "      <td>494</td>\n",
       "    </tr>\n",
       "  </tbody>\n",
       "</table>\n",
       "</div>"
      ],
      "text/plain": [
       "   A1_Score  A2_Score  A3_Score  A4_Score  A5_Score  A6_Score  A7_Score   \n",
       "0       352       376       440       468       484       557       482  \\\n",
       "1       448       424       360       332       316       243       318   \n",
       "\n",
       "   A8_Score  A9_Score  A10_Score  \n",
       "0       393       404        306  \n",
       "1       407       396        494  "
      ]
     },
     "execution_count": 14,
     "metadata": {},
     "output_type": "execute_result"
    }
   ],
   "source": [
    "dataset.filter(regex=\"_Score\").apply(lambda x:x.value_counts())"
   ]
  },
  {
   "cell_type": "code",
   "execution_count": 15,
   "metadata": {},
   "outputs": [
    {
     "data": {
      "text/plain": [
       "Index(['A1_Score', 'A2_Score', 'A3_Score', 'A4_Score', 'A5_Score', 'A6_Score',\n",
       "       'A7_Score', 'A8_Score', 'A9_Score', 'A10_Score', 'age', 'gender',\n",
       "       'ethnicity', 'jaundice', 'austim', 'contry_of_res', 'used_app_before',\n",
       "       'result', 'age_desc', 'relation', 'Class/ASD'],\n",
       "      dtype='object')"
      ]
     },
     "execution_count": 15,
     "metadata": {},
     "output_type": "execute_result"
    }
   ],
   "source": [
    "dataset.columns"
   ]
  },
  {
   "cell_type": "code",
   "execution_count": 16,
   "metadata": {},
   "outputs": [
    {
     "data": {
      "text/plain": [
       "contry_of_res\n",
       "54    134\n",
       "25    108\n",
       "36     78\n",
       "53     67\n",
       "31     55\n",
       "52     40\n",
       "6      37\n",
       "15     30\n",
       "0      22\n",
       "35     20\n",
       "7      18\n",
       "48     17\n",
       "13     12\n",
       "47     10\n",
       "21     10\n",
       "32     10\n",
       "28      9\n",
       "26      8\n",
       "42      7\n",
       "46      6\n",
       "29      6\n",
       "9       6\n",
       "33      6\n",
       "55      5\n",
       "40      4\n",
       "16      4\n",
       "34      4\n",
       "37      4\n",
       "4       4\n",
       "8       4\n",
       "27      4\n",
       "5       4\n",
       "43      4\n",
       "1       4\n",
       "12      3\n",
       "44      3\n",
       "20      3\n",
       "24      3\n",
       "22      3\n",
       "51      3\n",
       "38      3\n",
       "17      2\n",
       "49      2\n",
       "39      2\n",
       "11      1\n",
       "41      1\n",
       "14      1\n",
       "18      1\n",
       "19      1\n",
       "2       1\n",
       "45      1\n",
       "30      1\n",
       "3       1\n",
       "50      1\n",
       "23      1\n",
       "10      1\n",
       "Name: count, dtype: int64"
      ]
     },
     "execution_count": 16,
     "metadata": {},
     "output_type": "execute_result"
    }
   ],
   "source": [
    "dataset[\"contry_of_res\"].value_counts()"
   ]
  },
  {
   "cell_type": "markdown",
   "metadata": {},
   "source": [
    "# Correlation"
   ]
  },
  {
   "cell_type": "code",
   "execution_count": 17,
   "metadata": {},
   "outputs": [
    {
     "data": {
      "image/png": "[encoded data removed]",
      "text/plain": [
       "<Figure size 432x288 with 2 Axes>"
      ]
     },
     "metadata": {
      "needs_background": "light"
     },
     "output_type": "display_data"
    }
   ],
   "source": [
    "sns.heatmap(dataset.corr());"
   ]
  },
  {
   "cell_type": "markdown",
   "metadata": {},
   "source": [
    "# Preprocessing"
   ]
  },
  {
   "cell_type": "code",
   "execution_count": 18,
   "metadata": {},
   "outputs": [
    {
     "name": "stdout",
     "output_type": "stream",
     "text": [
      "<class 'pandas.core.frame.DataFrame'>\n",
      "Index: 800 entries, 1 to 800\n",
      "Data columns (total 20 columns):\n",
      " #   Column           Non-Null Count  Dtype  \n",
      "---  ------           --------------  -----  \n",
      " 0   A1_Score         800 non-null    int64  \n",
      " 1   A2_Score         800 non-null    int64  \n",
      " 2   A3_Score         800 non-null    int64  \n",
      " 3   A4_Score         800 non-null    int64  \n",
      " 4   A5_Score         800 non-null    int64  \n",
      " 5   A6_Score         800 non-null    int64  \n",
      " 6   A7_Score         800 non-null    int64  \n",
      " 7   A8_Score         800 non-null    int64  \n",
      " 8   A9_Score         800 non-null    int64  \n",
      " 9   A10_Score        800 non-null    int64  \n",
      " 10  age              800 non-null    float64\n",
      " 11  gender           800 non-null    int64  \n",
      " 12  ethnicity        800 non-null    int64  \n",
      " 13  jaundice         800 non-null    int64  \n",
      " 14  austim           800 non-null    int64  \n",
      " 15  contry_of_res    800 non-null    int64  \n",
      " 16  used_app_before  800 non-null    int64  \n",
      " 17  result           800 non-null    float64\n",
      " 18  relation         800 non-null    int64  \n",
      " 19  Class/ASD        800 non-null    int64  \n",
      "dtypes: float64(2), int64(18)\n",
      "memory usage: 131.2 KB\n"
     ]
    }
   ],
   "source": [
    "df = dataset.drop([\"age_desc\"], axis=1)\n",
    "df.info()"
   ]
  },
  {
   "cell_type": "code",
   "execution_count": 19,
   "metadata": {},
   "outputs": [],
   "source": [
    "# cat_var = ['sex', 'Married', 'Number_children', 'education_level',\n",
    "#             'total_members', 'incoming_salary', 'incoming_own_farm',\n",
    "#             'incoming_business', 'incoming_no_business', 'labor_primary',\n",
    "#             'depressed']\n",
    "# for col in cat_var:\n",
    "#     df[col] = df[col].astype('category')\n",
    "# df.info()"
   ]
  },
  {
   "cell_type": "code",
   "execution_count": 20,
   "metadata": {},
   "outputs": [],
   "source": [
    "continuous_var = df.select_dtypes(['int64']).columns\n",
    "\n",
    "scaler = MinMaxScaler()\n",
    "df[continuous_var] = scaler.fit_transform(df[continuous_var])"
   ]
  },
  {
   "cell_type": "markdown",
   "metadata": {},
   "source": [
    "# Modelling"
   ]
  },
  {
   "cell_type": "code",
   "execution_count": 21,
   "metadata": {},
   "outputs": [],
   "source": [
    "df = df.dropna()\n",
    "X = df.drop(\"Class/ASD\", axis=1)\n",
    "y = df[\"Class/ASD\"]"
   ]
  },
  {
   "cell_type": "markdown",
   "metadata": {},
   "source": [
    "### Oversampling"
   ]
  },
  {
   "cell_type": "code",
   "execution_count": 22,
   "metadata": {},
   "outputs": [],
   "source": [
    "X_train, X_test, y_train, y_test = train_test_split(X, y, test_size=0.2)\n",
    "smote = SMOTE(random_state=42)  # You can set a random seed for reproducibility\n",
    "X_train, y_train = smote.fit_resample(X, y)\n",
    "#X_train, X_test, y_train, y_test = train_test_split(X, y, test_size=0.2)"
   ]
  },
  {
   "cell_type": "markdown",
   "metadata": {},
   "source": [
    "### Undersampling"
   ]
  },
  {
   "cell_type": "code",
   "execution_count": 23,
   "metadata": {},
   "outputs": [],
   "source": [
    "# X_train[\"depressed\"] = y_train\n",
    "# train1 = X_train[X_train[\"depressed\"]==1]\n",
    "# train0 = X_train[X_train[\"depressed\"]==0].sample(len(train1))\n",
    "# train = pd.concat([train1, train0])\n",
    "# X_train = train.drop(\"depressed\", axis=1)\n",
    "# y_train = train[\"depressed\"]"
   ]
  },
  {
   "cell_type": "code",
   "execution_count": 24,
   "metadata": {},
   "outputs": [
    {
     "data": {
      "text/plain": [
       "XGBClassifier(base_score=None, booster=None, callbacks=None,\n",
       "              colsample_bylevel=None, colsample_bynode=None,\n",
       "              colsample_bytree=None, device='cuda', early_stopping_rounds=None,\n",
       "              enable_categorical=False, eval_metric='auc', feature_types=None,\n",
       "              gamma=None, grow_policy=None, importance_type=None,\n",
       "              interaction_constraints=None, learning_rate=None, max_bin=None,\n",
       "              max_cat_threshold=None, max_cat_to_onehot=None,\n",
       "              max_delta_step=None, max_depth=None, max_leaves=None,\n",
       "              min_child_weight=None, missing=nan, monotone_constraints=None,\n",
       "              multi_strategy=None, n_estimators=None, n_jobs=None,\n",
       "              num_parallel_tree=None, random_state=None, ...)"
      ]
     },
     "execution_count": 24,
     "metadata": {},
     "output_type": "execute_result"
    }
   ],
   "source": [
    "model = XGBClassifier( tree_method=\"hist\", device=\"cuda\",\n",
    "                       objective=\"binary:logistic\",\n",
    "                         eval_metric=\"auc\"\n",
    "                         )\n",
    "model.fit(X_train, y_train)"
   ]
  },
  {
   "cell_type": "code",
   "execution_count": 25,
   "metadata": {},
   "outputs": [
    {
     "data": {
      "text/plain": [
       "1.0"
      ]
     },
     "execution_count": 25,
     "metadata": {},
     "output_type": "execute_result"
    }
   ],
   "source": [
    "y_pred = model.predict(X_test)\n",
    "auc_score = roc_auc_score(y_test, y_pred)\n",
    "auc_score"
   ]
  },
  {
   "cell_type": "code",
   "execution_count": 26,
   "metadata": {},
   "outputs": [
    {
     "name": "stdout",
     "output_type": "stream",
     "text": [
      "[0.83325195 0.8996582  0.91552734 0.88256836 0.92173706] 0.8905485829940647\n"
     ]
    },
    {
     "data": {
      "text/plain": [
       "array([0, 1, 0, 0, 0, 0, 0, 0, 1, 0, 0, 1, 1, 0, 1, 0, 0, 0, 0, 0, 0, 1,\n",
       "       1, 1, 0, 0, 0, 0, 0, 0, 0, 0, 1, 0, 0, 0, 0, 1, 0, 0, 0, 0, 0, 0,\n",
       "       0, 0, 0, 1, 0, 0, 0, 1, 0, 1, 0, 0, 0, 0, 1, 0, 0, 0, 0, 0, 0, 1,\n",
       "       0, 0, 1, 1, 0, 0, 0, 1, 0, 0, 0, 0, 1, 0, 0, 1, 0, 0, 0, 0, 0, 0,\n",
       "       0, 0, 1, 0, 0, 0, 0, 1, 1, 0, 1, 0, 0, 0, 0, 0, 0, 0, 0, 0, 0, 0,\n",
       "       1, 1, 0, 0, 0, 0, 0, 0, 0, 0, 0, 0, 1, 1, 0, 0, 0, 0, 0, 0, 0, 0,\n",
       "       0, 0, 1, 0, 0, 0, 0, 0, 0, 1, 1, 0, 0, 1, 0, 0, 0, 1, 0, 0, 0, 1,\n",
       "       1, 0, 0, 1, 0, 1])"
      ]
     },
     "execution_count": 26,
     "metadata": {},
     "output_type": "execute_result"
    }
   ],
   "source": [
    "from sklearn.model_selection import cross_val_score\n",
    "#clf = svm.SVC(kernel='linear', C=1, random_state=42)\n",
    "scores = cross_val_score(model, X, y, cv=5, scoring=\"roc_auc\")\n",
    "print(scores, scores.mean())\n",
    "y_pred"
   ]
  },
  {
   "cell_type": "code",
   "execution_count": 27,
   "metadata": {},
   "outputs": [
    {
     "data": {
      "text/plain": [
       "array([[123,   0],\n",
       "       [  0,  37]])"
      ]
     },
     "execution_count": 27,
     "metadata": {},
     "output_type": "execute_result"
    }
   ],
   "source": [
    "confusion_matrix(y_pred, y_test)"
   ]
  },
  {
   "cell_type": "code",
   "execution_count": 28,
   "metadata": {},
   "outputs": [
    {
     "name": "stdout",
     "output_type": "stream",
     "text": [
      "A1_Score 0.020267908\n",
      "A2_Score 0.011183228\n",
      "A3_Score 0.062241\n",
      "A4_Score 0.06932756\n",
      "A5_Score 0.106452964\n",
      "A6_Score 0.43398246\n",
      "A7_Score 0.028904542\n",
      "A8_Score 0.031856485\n",
      "A9_Score 0.09460394\n",
      "A10_Score 0.018177785\n",
      "age 0.009468941\n",
      "gender 0.011228982\n",
      "ethnicity 0.013416121\n",
      "jaundice 0.0151278\n",
      "austim 0.016782358\n",
      "contry_of_res 0.010074461\n",
      "used_app_before 0.012510888\n",
      "result 0.008448519\n",
      "relation 0.025944062\n"
     ]
    }
   ],
   "source": [
    "importance = list()\n",
    "for i, l in zip(X_train.columns, model.feature_importances_):\n",
    "    importance.append([i, float(l)])\n",
    "    print(i, l)"
   ]
  },
  {
   "cell_type": "code",
   "execution_count": 29,
   "metadata": {},
   "outputs": [
    {
     "data": {
      "text/plain": [
       "([0, 1, 2, 3, 4, 5, 6, 7, 8, 9, 10, 11, 12, 13, 14, 15, 16, 17, 18],\n",
       " [Text(0, 0, 'A1_Score'),\n",
       "  Text(1, 0, 'A2_Score'),\n",
       "  Text(2, 0, 'A3_Score'),\n",
       "  Text(3, 0, 'A4_Score'),\n",
       "  Text(4, 0, 'A5_Score'),\n",
       "  Text(5, 0, 'A6_Score'),\n",
       "  Text(6, 0, 'A7_Score'),\n",
       "  Text(7, 0, 'A8_Score'),\n",
       "  Text(8, 0, 'A9_Score'),\n",
       "  Text(9, 0, 'A10_Score'),\n",
       "  Text(10, 0, 'age'),\n",
       "  Text(11, 0, 'gender'),\n",
       "  Text(12, 0, 'ethnicity'),\n",
       "  Text(13, 0, 'jaundice'),\n",
       "  Text(14, 0, 'austim'),\n",
       "  Text(15, 0, 'contry_of_res'),\n",
       "  Text(16, 0, 'used_app_before'),\n",
       "  Text(17, 0, 'result'),\n",
       "  Text(18, 0, 'relation')])"
      ]
     },
     "execution_count": 29,
     "metadata": {},
     "output_type": "execute_result"
    },
    {
     "data": {
      "image/png": "[encoded data removed]",
      "text/plain": [
       "<Figure size 432x288 with 1 Axes>"
      ]
     },
     "metadata": {
      "needs_background": "light"
     },
     "output_type": "display_data"
    }
   ],
   "source": [
    "import matplotlib.pyplot as plt\n",
    "plt.bar(X_train.columns, model.feature_importances_)\n",
    "plt.xticks(rotation=90)"
   ]
  },
  {
   "attachments": {},
   "cell_type": "markdown",
   "metadata": {},
   "source": [
    "## Validation set for FDFP of fairness measure (Step 9): "
   ]
  },
  {
   "cell_type": "code",
   "execution_count": 32,
   "metadata": {},
   "outputs": [],
   "source": [
    "X = df.drop(\"Class/ASD\", axis=1)\n",
    "y = df[\"Class/ASD\"]\n",
    "\n",
    "# Split the data into train+validation and test sets\n",
    "X_train_val, X_test, y_train_val, y_test = train_test_split(X, y, test_size=0.2, random_state=42)\n",
    "\n",
    "# Further split the train+validation set into training and validation sets\n",
    "X_train, X_val, y_train, y_val = train_test_split(X_train_val, y_train_val, test_size=0.25, random_state=42) # 0.25 x 0.8 = 0.2\n",
    "\n",
    "# Apply SMOTE \n",
    "smote = SMOTE(random_state=42)\n",
    "X_train, y_train = smote.fit_resample(X_train, y_train)\n"
   ]
  },
  {
   "cell_type": "code",
   "execution_count": 33,
   "metadata": {},
   "outputs": [
    {
     "name": "stdout",
     "output_type": "stream",
     "text": [
      "[0]\tvalidation_0-auc:0.89817\n",
      "[1]\tvalidation_0-auc:0.89417\n",
      "[2]\tvalidation_0-auc:0.90023\n",
      "[3]\tvalidation_0-auc:0.89783\n",
      "[4]\tvalidation_0-auc:0.89714\n",
      "[5]\tvalidation_0-auc:0.89383\n",
      "[6]\tvalidation_0-auc:0.90000\n",
      "[7]\tvalidation_0-auc:0.90309\n",
      "[8]\tvalidation_0-auc:0.90126\n",
      "[9]\tvalidation_0-auc:0.90617\n",
      "[10]\tvalidation_0-auc:0.90583\n",
      "[11]\tvalidation_0-auc:0.90400\n",
      "[12]\tvalidation_0-auc:0.89966\n",
      "[13]\tvalidation_0-auc:0.89783\n",
      "[14]\tvalidation_0-auc:0.90034\n",
      "[15]\tvalidation_0-auc:0.89874\n",
      "[16]\tvalidation_0-auc:0.89760\n",
      "[17]\tvalidation_0-auc:0.89691\n",
      "[18]\tvalidation_0-auc:0.89669\n"
     ]
    },
    {
     "name": "stderr",
     "output_type": "stream",
     "text": [
      "/Users/steve/miniconda3/lib/python3.9/site-packages/xgboost/sklearn.py:885: UserWarning: `early_stopping_rounds` in `fit` method is deprecated for better compatibility with scikit-learn, use `early_stopping_rounds` in constructor or`set_params` instead.\n",
      "  warnings.warn(\n"
     ]
    },
    {
     "data": {
      "text/plain": [
       "XGBClassifier(base_score=None, booster=None, callbacks=None,\n",
       "              colsample_bylevel=None, colsample_bynode=None,\n",
       "              colsample_bytree=None, device='cuda', early_stopping_rounds=None,\n",
       "              enable_categorical=False, eval_metric='auc', feature_types=None,\n",
       "              gamma=None, grow_policy=None, importance_type=None,\n",
       "              interaction_constraints=None, learning_rate=None, max_bin=None,\n",
       "              max_cat_threshold=None, max_cat_to_onehot=None,\n",
       "              max_delta_step=None, max_depth=None, max_leaves=None,\n",
       "              min_child_weight=None, missing=nan, monotone_constraints=None,\n",
       "              multi_strategy=None, n_estimators=None, n_jobs=None,\n",
       "              num_parallel_tree=None, random_state=None, ...)"
      ]
     },
     "execution_count": 33,
     "metadata": {},
     "output_type": "execute_result"
    }
   ],
   "source": [
    "model = XGBClassifier(tree_method=\"hist\", device=\"cuda\",\n",
    "                      objective=\"binary:logistic\",\n",
    "                      eval_metric=\"auc\")\n",
    "\n",
    "# Fit the model with the validation set for early stopping\n",
    "model.fit(X_train, y_train,\n",
    "          eval_set=[(X_val, y_val)],\n",
    "          early_stopping_rounds=10,\n",
    "          verbose=True)\n"
   ]
  },
  {
   "cell_type": "code",
   "execution_count": 35,
   "metadata": {},
   "outputs": [],
   "source": [
    "# Predict the outcomes on the validation set\n",
    "y_val_pred = model.predict(X_val)\n",
    "\n",
    "val_predictions = X_val.copy()\n",
    "val_predictions['Actual'] = y_val\n",
    "val_predictions['Predicted'] = y_val_pred\n",
    "\n",
    "val_predictions.to_csv('data/validation_predictions.csv', index=False)"
   ]
  }
 ],
 "metadata": {
  "kernelspec": {
   "display_name": ".venv",
   "language": "python",
   "name": "python3"
  },
  "language_info": {
   "codemirror_mode": {
    "name": "ipython",
    "version": 3
   },
   "file_extension": ".py",
   "mimetype": "text/x-python",
   "name": "python",
   "nbconvert_exporter": "python",
   "pygments_lexer": "ipython3",
   "version": "3.9.12"
  }
 },
 "nbformat": 4,
 "nbformat_minor": 2
}
