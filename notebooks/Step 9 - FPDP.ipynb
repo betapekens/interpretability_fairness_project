{
 "cells": [
  {
   "cell_type": "code",
   "execution_count": null,
   "metadata": {},
   "outputs": [],
   "source": [
    "import pandas as pd\n",
    "import numpy as np\n",
    "import matplotlib.pyplot as plt\n",
    "import seaborn as sns\n",
    "import plotly.graph_objs as go\n",
    "from plotly.offline import init_notebook_mode, iplot"
   ]
  },
  {
   "cell_type": "code",
   "execution_count": null,
   "metadata": {},
   "outputs": [],
   "source": [
    "val_df = pd.read_csv('../data/validation_predictions.csv')"
   ]
  },
  {
   "cell_type": "code",
   "execution_count": null,
   "metadata": {},
   "outputs": [],
   "source": [
    "# Ensure age is treated as a numerical feature\n",
    "val_df['age'] = val_df['age'].astype(float)\n",
    "\n",
    "# Group by age and gender and calculate the mean predicted probability for each group\n",
    "age_gender_grouped = val_df.groupby(['age', 'gender'])['Predicted'].mean().reset_index()\n",
    "\n",
    "# Calculate the overall mean predicted probability for statistical parity\n",
    "overall_mean_pred = val_df['Predicted'].mean()"
   ]
  },
  {
   "cell_type": "code",
   "execution_count": null,
   "metadata": {},
   "outputs": [],
   "source": [
    "\n",
    "traces = []\n",
    "\n",
    "# trace for females\n",
    "traces.append(go.Scatter(\n",
    "    x=age_gender_grouped[age_gender_grouped['gender'] == 0]['age'],\n",
    "    y=age_gender_grouped[age_gender_grouped['gender'] == 0]['Predicted'] - overall_mean_pred,\n",
    "    mode='lines+markers',\n",
    "    name='Female',\n",
    "    marker=dict(color='LightPink', size=10, line=dict(width=2)),\n",
    "    line=dict(color='HotPink', width=2)\n",
    "))\n",
    "\n",
    "# trace for males\n",
    "traces.append(go.Scatter(\n",
    "    x=age_gender_grouped[age_gender_grouped['gender'] == 1]['age'],\n",
    "    y=age_gender_grouped[age_gender_grouped['gender'] == 1]['Predicted'] - overall_mean_pred,\n",
    "    mode='lines+markers',\n",
    "    name='Male',\n",
    "    marker=dict(color='LightSkyBlue', size=10, line=dict(width=2)),\n",
    "    line=dict(color='DodgerBlue', width=2)\n",
    "))\n",
    "\n",
    "# trace for statistical parity line\n",
    "traces.append(go.Scatter(\n",
    "    x=age_gender_grouped['age'],\n",
    "    y=[0]*len(age_gender_grouped['age']),\n",
    "    mode='lines',\n",
    "    name='Statistical Parity',\n",
    "    line=dict(color='Gray', width=2, dash='dash')\n",
    "))\n",
    "\n",
    "# layout\n",
    "layout = go.Layout(\n",
    "    title='Fairness Partial Dependence Plot (FPDP) with Statistical Parity for Age',\n",
    "    xaxis=dict(title='Age'),\n",
    "    yaxis=dict(title='Deviation from Overall Mean Probability of ASD'),\n",
    "    margin=dict(l=40, r=40, t=40, b=40)\n",
    ")\n",
    "\n",
    "fig = go.Figure(data=traces, layout=layout)\n",
    "fig.show()\n"
   ]
  },
  {
   "cell_type": "code",
   "execution_count": null,
   "metadata": {},
   "outputs": [],
   "source": []
  }
 ],
 "metadata": {
  "kernelspec": {
   "display_name": "Python 3",
   "language": "python",
   "name": "python3"
  },
  "language_info": {
   "codemirror_mode": {
    "name": "ipython",
    "version": 3
   },
   "file_extension": ".py",
   "mimetype": "text/x-python",
   "name": "python",
   "nbconvert_exporter": "python",
   "pygments_lexer": "ipython3",
   "version": "3.9.12"
  },
  "orig_nbformat": 4
 },
 "nbformat": 4,
 "nbformat_minor": 2
}
