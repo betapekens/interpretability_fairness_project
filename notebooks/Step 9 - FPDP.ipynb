{
 "cells": [
  {
   "cell_type": "code",
   "execution_count": null,
   "metadata": {},
   "outputs": [],
   "source": [
    "import pandas as pd\n",
    "import numpy as np\n",
    "import matplotlib.pyplot as plt\n",
    "import seaborn as sns\n",
    "import plotly.graph_objs as go\n",
    "from plotly.offline import init_notebook_mode, iplot"
   ]
  },
  {
   "cell_type": "code",
   "execution_count": null,
   "metadata": {},
   "outputs": [],
   "source": [
    "val_df = pd.read_csv('../data/validation_predictions.csv')"
   ]
  },
  {
   "cell_type": "code",
   "execution_count": null,
   "metadata": {},
   "outputs": [],
   "source": [
    "# Ensure age is treated as a numerical feature\n",
    "val_df['age'] = val_df['age'].astype(float)\n",
    "\n",
    "# Group by age and gender and calculate the mean predicted probability for each group\n",
    "age_gender_grouped = val_df.groupby(['age', 'gender'])['Predicted'].mean().reset_index()\n",
    "\n",
    "# Calculate the overall mean predicted probability for statistical parity\n",
    "overall_mean_pred = val_df['Predicted'].mean()"
   ]
  },
  {
   "cell_type": "code",
   "execution_count": null,
   "metadata": {},
   "outputs": [],
   "source": [
    "\n",
    "traces = []\n",
    "\n",
    "# trace for females\n",
    "traces.append(go.Scatter(\n",
    "    x=age_gender_grouped[age_gender_grouped['gender'] == 0]['age'],\n",
    "    y=age_gender_grouped[age_gender_grouped['gender'] == 0]['Predicted'] - overall_mean_pred,\n",
    "    mode='lines+markers',\n",
    "    name='Female',\n",
    "    marker=dict(color='LightPink', size=10, line=dict(width=2)),\n",
    "    line=dict(color='HotPink', width=2)\n",
    "))\n",
    "\n",
    "# trace for males\n",
    "traces.append(go.Scatter(\n",
    "    x=age_gender_grouped[age_gender_grouped['gender'] == 1]['age'],\n",
    "    y=age_gender_grouped[age_gender_grouped['gender'] == 1]['Predicted'] - overall_mean_pred,\n",
    "    mode='lines+markers',\n",
    "    name='Male',\n",
    "    marker=dict(color='LightSkyBlue', size=10, line=dict(width=2)),\n",
    "    line=dict(color='DodgerBlue', width=2)\n",
    "))\n",
    "\n",
    "# trace for statistical parity line\n",
    "traces.append(go.Scatter(\n",
    "    x=age_gender_grouped['age'],\n",
    "    y=[0]*len(age_gender_grouped['age']),\n",
    "    mode='lines',\n",
    "    name='Statistical Parity',\n",
    "    line=dict(color='Gray', width=2, dash='dash')\n",
    "))\n",
    "\n",
    "# layout\n",
    "layout = go.Layout(\n",
    "    title='Fairness Partial Dependence Plot (FPDP) with Statistical Parity for Age',\n",
    "    xaxis=dict(title='Age'),\n",
    "    yaxis=dict(title='Deviation from Overall Mean Probability of ASD'),\n",
    "    margin=dict(l=40, r=40, t=40, b=40)\n",
    ")\n",
    "\n",
    "fig = go.Figure(data=traces, layout=layout)\n",
    "fig.show()\n"
   ]
  },
  {
   "cell_type": "code",
   "execution_count": 4,
   "metadata": {},
   "outputs": [
    {
     "name": "stderr",
     "output_type": "stream",
     "text": [
      "/Users/steve/miniconda3/lib/python3.9/site-packages/xgboost/data.py:463: FutureWarning: is_sparse is deprecated and will be removed in a future version. Check `isinstance(dtype, pd.SparseDtype)` instead.\n",
      "  or is_sparse(dtype)\n",
      "/Users/steve/miniconda3/lib/python3.9/site-packages/xgboost/data.py:464: FutureWarning: is_categorical_dtype is deprecated and will be removed in a future version. Use isinstance(dtype, CategoricalDtype) instead\n",
      "  or (is_categorical_dtype(dtype) and enable_categorical)\n",
      "/Users/steve/miniconda3/lib/python3.9/site-packages/xgboost/data.py:335: FutureWarning: is_sparse is deprecated and will be removed in a future version. Check `isinstance(dtype, pd.SparseDtype)` instead.\n",
      "  if is_sparse(dtype):\n",
      "/Users/steve/miniconda3/lib/python3.9/site-packages/xgboost/data.py:338: FutureWarning: is_categorical_dtype is deprecated and will be removed in a future version. Use isinstance(dtype, CategoricalDtype) instead\n",
      "  is_categorical_dtype(dtype) or is_pa_ext_categorical_dtype(dtype)\n",
      "/Users/steve/miniconda3/lib/python3.9/site-packages/xgboost/data.py:384: FutureWarning: is_categorical_dtype is deprecated and will be removed in a future version. Use isinstance(dtype, CategoricalDtype) instead\n",
      "  if is_categorical_dtype(dtype):\n",
      "/Users/steve/miniconda3/lib/python3.9/site-packages/xgboost/data.py:359: FutureWarning: is_categorical_dtype is deprecated and will be removed in a future version. Use isinstance(dtype, CategoricalDtype) instead\n",
      "  return is_int or is_bool or is_float or is_categorical_dtype(dtype)\n",
      "/Users/steve/miniconda3/lib/python3.9/site-packages/xgboost/data.py:401: FutureWarning: is_categorical_dtype is deprecated and will be removed in a future version. Use isinstance(dtype, CategoricalDtype) instead\n",
      "  if is_categorical_dtype(ser.dtype):\n"
     ]
    },
    {
     "ename": "ValueError",
     "evalue": "feature_names mismatch: ['A1_Score', 'A2_Score', 'A3_Score', 'A4_Score', 'A5_Score', 'A6_Score', 'A7_Score', 'A8_Score', 'A9_Score', 'A10_Score', 'age', 'gender', 'jaundice', 'autism', 'used_app_before', 'result', 'age_desc', 'country_of_res=Afghanistan', 'country_of_res=AmericanSamoa', 'country_of_res=Angola', 'country_of_res=Argentina', 'country_of_res=Armenia', 'country_of_res=Aruba', 'country_of_res=Australia', 'country_of_res=Austria', 'country_of_res=Azerbaijan', 'country_of_res=Bahamas', 'country_of_res=Bangladesh', 'country_of_res=Belgium', 'country_of_res=Bolivia', 'country_of_res=Brazil', 'country_of_res=Burundi', 'country_of_res=Canada', 'country_of_res=China', 'country_of_res=Cyprus', 'country_of_res=Czech Republic', 'country_of_res=Egypt', 'country_of_res=Ethiopia', 'country_of_res=France', 'country_of_res=Germany', 'country_of_res=Hong Kong', 'country_of_res=Iceland', 'country_of_res=India', 'country_of_res=Iran', 'country_of_res=Iraq', 'country_of_res=Ireland', 'country_of_res=Italy', 'country_of_res=Japan', 'country_of_res=Jordan', 'country_of_res=Kazakhstan', 'country_of_res=Malaysia', 'country_of_res=Mexico', 'country_of_res=Netherlands', 'country_of_res=New Zealand', 'country_of_res=Nicaragua', 'country_of_res=Niger', 'country_of_res=Oman', 'country_of_res=Pakistan', 'country_of_res=Romania', 'country_of_res=Russia', 'country_of_res=Saudi Arabia', 'country_of_res=Serbia', 'country_of_res=Sierra Leone', 'country_of_res=South Africa', 'country_of_res=Spain', 'country_of_res=Sri Lanka', 'country_of_res=Sweden', 'country_of_res=Tonga', 'country_of_res=Ukraine', 'country_of_res=United Arab Emirates', 'country_of_res=United Kingdom', 'country_of_res=United States', 'country_of_res=Viet Nam', 'ethnicity=?', 'ethnicity=Asian', 'ethnicity=Black', 'ethnicity=Hispanic', 'ethnicity=Latino', 'ethnicity=Middle Eastern ', 'ethnicity=Others', 'ethnicity=Pasifika', 'ethnicity=South Asian', 'ethnicity=Turkish', 'ethnicity=White-European', 'ethnicity=others', 'relation=?', 'relation=Health care professional', 'relation=Others', 'relation=Parent', 'relation=Relative', 'relation=Self'] ['ID', 'A1_Score', 'A2_Score', 'A3_Score', 'A4_Score', 'A5_Score', 'A6_Score', 'A7_Score', 'A8_Score', 'A9_Score', 'A10_Score', 'age', 'gender', 'ethnicity', 'jaundice', 'austim', 'contry_of_res', 'used_app_before', 'result', 'age_desc', 'relation', 'Class/ASD']\nexpected ethnicity=South Asian, country_of_res=Italy, relation=Relative, country_of_res=Niger, country_of_res=Egypt, country_of_res=Iran, country_of_res=Japan, country_of_res=Sri Lanka, country_of_res=Oman, country_of_res=Brazil, country_of_res=India, country_of_res=Netherlands, country_of_res=AmericanSamoa, ethnicity=?, country_of_res=Azerbaijan, country_of_res=Serbia, country_of_res=United Arab Emirates, country_of_res=Bangladesh, relation=Others, country_of_res=Aruba, country_of_res=Germany, country_of_res=Spain, country_of_res=France, country_of_res=Romania, autism, ethnicity=White-European, country_of_res=Saudi Arabia, ethnicity=Asian, relation=Health care professional, country_of_res=Mexico, ethnicity=Turkish, country_of_res=Burundi, country_of_res=New Zealand, relation=Self, relation=?, country_of_res=Ukraine, ethnicity=Pasifika, country_of_res=Viet Nam, country_of_res=Malaysia, country_of_res=Nicaragua, country_of_res=Russia, relation=Parent, ethnicity=Latino, country_of_res=Bahamas, country_of_res=Cyprus, country_of_res=Kazakhstan, country_of_res=Ireland, ethnicity=Others, country_of_res=Ethiopia, country_of_res=Sweden, country_of_res=Canada, country_of_res=Iraq, ethnicity=Hispanic, country_of_res=United Kingdom, ethnicity=Black, country_of_res=Angola, country_of_res=Afghanistan, country_of_res=Tonga, country_of_res=Iceland, country_of_res=Sierra Leone, country_of_res=Hong Kong, country_of_res=Australia, country_of_res=Bolivia, country_of_res=Pakistan, country_of_res=Belgium, ethnicity=Middle Eastern , country_of_res=China, country_of_res=United States, country_of_res=Jordan, country_of_res=South Africa, ethnicity=others, country_of_res=Austria, country_of_res=Czech Republic, country_of_res=Argentina, country_of_res=Armenia in input data\ntraining data did not have the following fields: contry_of_res, relation, ID, ethnicity, Class/ASD, austim",
     "output_type": "error",
     "traceback": [
      "\u001b[0;31m---------------------------------------------------------------------------\u001b[0m",
      "\u001b[0;31mValueError\u001b[0m                                Traceback (most recent call last)",
      "Cell \u001b[0;32mIn[4], line 29\u001b[0m\n\u001b[1;32m     27\u001b[0m \u001b[39m# Generate the partial dependence plot data\u001b[39;00m\n\u001b[1;32m     28\u001b[0m fig, ax \u001b[39m=\u001b[39m plt\u001b[39m.\u001b[39msubplots(figsize\u001b[39m=\u001b[39m(\u001b[39m10\u001b[39m, \u001b[39m6\u001b[39m))\n\u001b[0;32m---> 29\u001b[0m display \u001b[39m=\u001b[39m PartialDependenceDisplay\u001b[39m.\u001b[39;49mfrom_estimator(\n\u001b[1;32m     30\u001b[0m     xgb_model,\n\u001b[1;32m     31\u001b[0m     X\u001b[39m=\u001b[39;49mdf,\n\u001b[1;32m     32\u001b[0m     features\u001b[39m=\u001b[39;49m[feature_name],\n\u001b[1;32m     33\u001b[0m     kind\u001b[39m=\u001b[39;49m\u001b[39m'\u001b[39;49m\u001b[39maverage\u001b[39;49m\u001b[39m'\u001b[39;49m,  \u001b[39m# or 'both' to include individual predictions\u001b[39;49;00m\n\u001b[1;32m     34\u001b[0m     grid_resolution\u001b[39m=\u001b[39;49m\u001b[39m50\u001b[39;49m,  \u001b[39m# Adjust the resolution for curve smoothness\u001b[39;49;00m\n\u001b[1;32m     35\u001b[0m     feature_names\u001b[39m=\u001b[39;49mdf\u001b[39m.\u001b[39;49mcolumns,\n\u001b[1;32m     36\u001b[0m     ax\u001b[39m=\u001b[39;49max\n\u001b[1;32m     37\u001b[0m )\n\u001b[1;32m     39\u001b[0m \u001b[39m# Customize the plot with title, labels, etc.\u001b[39;00m\n\u001b[1;32m     40\u001b[0m ax\u001b[39m.\u001b[39mset_title(\u001b[39mf\u001b[39m\u001b[39m'\u001b[39m\u001b[39mPartial Dependence Plot for \u001b[39m\u001b[39m{\u001b[39;00mfeature_name\u001b[39m}\u001b[39;00m\u001b[39m'\u001b[39m)\n",
      "File \u001b[0;32m~/miniconda3/lib/python3.9/site-packages/sklearn/inspection/_plot/partial_dependence.py:703\u001b[0m, in \u001b[0;36mPartialDependenceDisplay.from_estimator\u001b[0;34m(cls, estimator, X, features, sample_weight, categorical_features, feature_names, target, response_method, n_cols, grid_resolution, percentiles, method, n_jobs, verbose, line_kw, ice_lines_kw, pd_line_kw, contour_kw, ax, kind, centered, subsample, random_state)\u001b[0m\n\u001b[1;32m    697\u001b[0m         \u001b[39mraise\u001b[39;00m \u001b[39mValueError\u001b[39;00m(\n\u001b[1;32m    698\u001b[0m             \u001b[39mf\u001b[39m\u001b[39m\"\u001b[39m\u001b[39mWhen a floating-point, subsample=\u001b[39m\u001b[39m{\u001b[39;00msubsample\u001b[39m}\u001b[39;00m\u001b[39m should be in \u001b[39m\u001b[39m\"\u001b[39m\n\u001b[1;32m    699\u001b[0m             \u001b[39m\"\u001b[39m\u001b[39mthe (0, 1) range.\u001b[39m\u001b[39m\"\u001b[39m\n\u001b[1;32m    700\u001b[0m         )\n\u001b[1;32m    702\u001b[0m \u001b[39m# compute predictions and/or averaged predictions\u001b[39;00m\n\u001b[0;32m--> 703\u001b[0m pd_results \u001b[39m=\u001b[39m Parallel(n_jobs\u001b[39m=\u001b[39;49mn_jobs, verbose\u001b[39m=\u001b[39;49mverbose)(\n\u001b[1;32m    704\u001b[0m     delayed(partial_dependence)(\n\u001b[1;32m    705\u001b[0m         estimator,\n\u001b[1;32m    706\u001b[0m         X,\n\u001b[1;32m    707\u001b[0m         fxs,\n\u001b[1;32m    708\u001b[0m         sample_weight\u001b[39m=\u001b[39;49msample_weight,\n\u001b[1;32m    709\u001b[0m         feature_names\u001b[39m=\u001b[39;49mfeature_names,\n\u001b[1;32m    710\u001b[0m         categorical_features\u001b[39m=\u001b[39;49mcategorical_features,\n\u001b[1;32m    711\u001b[0m         response_method\u001b[39m=\u001b[39;49mresponse_method,\n\u001b[1;32m    712\u001b[0m         method\u001b[39m=\u001b[39;49mmethod,\n\u001b[1;32m    713\u001b[0m         grid_resolution\u001b[39m=\u001b[39;49mgrid_resolution,\n\u001b[1;32m    714\u001b[0m         percentiles\u001b[39m=\u001b[39;49mpercentiles,\n\u001b[1;32m    715\u001b[0m         kind\u001b[39m=\u001b[39;49mkind_plot,\n\u001b[1;32m    716\u001b[0m     )\n\u001b[1;32m    717\u001b[0m     \u001b[39mfor\u001b[39;49;00m kind_plot, fxs \u001b[39min\u001b[39;49;00m \u001b[39mzip\u001b[39;49m(kind_, features)\n\u001b[1;32m    718\u001b[0m )\n\u001b[1;32m    720\u001b[0m \u001b[39m# For multioutput regression, we can only check the validity of target\u001b[39;00m\n\u001b[1;32m    721\u001b[0m \u001b[39m# now that we have the predictions.\u001b[39;00m\n\u001b[1;32m    722\u001b[0m \u001b[39m# Also note: as multiclass-multioutput classifiers are not supported,\u001b[39;00m\n\u001b[1;32m    723\u001b[0m \u001b[39m# multiclass and multioutput scenario are mutually exclusive. So there is\u001b[39;00m\n\u001b[1;32m    724\u001b[0m \u001b[39m# no risk of overwriting target_idx here.\u001b[39;00m\n\u001b[1;32m    725\u001b[0m pd_result \u001b[39m=\u001b[39m pd_results[\u001b[39m0\u001b[39m]  \u001b[39m# checking the first result is enough\u001b[39;00m\n",
      "File \u001b[0;32m~/miniconda3/lib/python3.9/site-packages/sklearn/utils/parallel.py:65\u001b[0m, in \u001b[0;36mParallel.__call__\u001b[0;34m(self, iterable)\u001b[0m\n\u001b[1;32m     60\u001b[0m config \u001b[39m=\u001b[39m get_config()\n\u001b[1;32m     61\u001b[0m iterable_with_config \u001b[39m=\u001b[39m (\n\u001b[1;32m     62\u001b[0m     (_with_config(delayed_func, config), args, kwargs)\n\u001b[1;32m     63\u001b[0m     \u001b[39mfor\u001b[39;00m delayed_func, args, kwargs \u001b[39min\u001b[39;00m iterable\n\u001b[1;32m     64\u001b[0m )\n\u001b[0;32m---> 65\u001b[0m \u001b[39mreturn\u001b[39;00m \u001b[39msuper\u001b[39;49m()\u001b[39m.\u001b[39;49m\u001b[39m__call__\u001b[39;49m(iterable_with_config)\n",
      "File \u001b[0;32m~/miniconda3/lib/python3.9/site-packages/joblib/parallel.py:1863\u001b[0m, in \u001b[0;36mParallel.__call__\u001b[0;34m(self, iterable)\u001b[0m\n\u001b[1;32m   1861\u001b[0m     output \u001b[39m=\u001b[39m \u001b[39mself\u001b[39m\u001b[39m.\u001b[39m_get_sequential_output(iterable)\n\u001b[1;32m   1862\u001b[0m     \u001b[39mnext\u001b[39m(output)\n\u001b[0;32m-> 1863\u001b[0m     \u001b[39mreturn\u001b[39;00m output \u001b[39mif\u001b[39;00m \u001b[39mself\u001b[39m\u001b[39m.\u001b[39mreturn_generator \u001b[39melse\u001b[39;00m \u001b[39mlist\u001b[39;49m(output)\n\u001b[1;32m   1865\u001b[0m \u001b[39m# Let's create an ID that uniquely identifies the current call. If the\u001b[39;00m\n\u001b[1;32m   1866\u001b[0m \u001b[39m# call is interrupted early and that the same instance is immediately\u001b[39;00m\n\u001b[1;32m   1867\u001b[0m \u001b[39m# re-used, this id will be used to prevent workers that were\u001b[39;00m\n\u001b[1;32m   1868\u001b[0m \u001b[39m# concurrently finalizing a task from the previous call to run the\u001b[39;00m\n\u001b[1;32m   1869\u001b[0m \u001b[39m# callback.\u001b[39;00m\n\u001b[1;32m   1870\u001b[0m \u001b[39mwith\u001b[39;00m \u001b[39mself\u001b[39m\u001b[39m.\u001b[39m_lock:\n",
      "File \u001b[0;32m~/miniconda3/lib/python3.9/site-packages/joblib/parallel.py:1792\u001b[0m, in \u001b[0;36mParallel._get_sequential_output\u001b[0;34m(self, iterable)\u001b[0m\n\u001b[1;32m   1790\u001b[0m \u001b[39mself\u001b[39m\u001b[39m.\u001b[39mn_dispatched_batches \u001b[39m+\u001b[39m\u001b[39m=\u001b[39m \u001b[39m1\u001b[39m\n\u001b[1;32m   1791\u001b[0m \u001b[39mself\u001b[39m\u001b[39m.\u001b[39mn_dispatched_tasks \u001b[39m+\u001b[39m\u001b[39m=\u001b[39m \u001b[39m1\u001b[39m\n\u001b[0;32m-> 1792\u001b[0m res \u001b[39m=\u001b[39m func(\u001b[39m*\u001b[39;49margs, \u001b[39m*\u001b[39;49m\u001b[39m*\u001b[39;49mkwargs)\n\u001b[1;32m   1793\u001b[0m \u001b[39mself\u001b[39m\u001b[39m.\u001b[39mn_completed_tasks \u001b[39m+\u001b[39m\u001b[39m=\u001b[39m \u001b[39m1\u001b[39m\n\u001b[1;32m   1794\u001b[0m \u001b[39mself\u001b[39m\u001b[39m.\u001b[39mprint_progress()\n",
      "File \u001b[0;32m~/miniconda3/lib/python3.9/site-packages/sklearn/utils/parallel.py:127\u001b[0m, in \u001b[0;36m_FuncWrapper.__call__\u001b[0;34m(self, *args, **kwargs)\u001b[0m\n\u001b[1;32m    125\u001b[0m     config \u001b[39m=\u001b[39m {}\n\u001b[1;32m    126\u001b[0m \u001b[39mwith\u001b[39;00m config_context(\u001b[39m*\u001b[39m\u001b[39m*\u001b[39mconfig):\n\u001b[0;32m--> 127\u001b[0m     \u001b[39mreturn\u001b[39;00m \u001b[39mself\u001b[39;49m\u001b[39m.\u001b[39;49mfunction(\u001b[39m*\u001b[39;49margs, \u001b[39m*\u001b[39;49m\u001b[39m*\u001b[39;49mkwargs)\n",
      "File \u001b[0;32m~/miniconda3/lib/python3.9/site-packages/sklearn/utils/_param_validation.py:214\u001b[0m, in \u001b[0;36mvalidate_params.<locals>.decorator.<locals>.wrapper\u001b[0;34m(*args, **kwargs)\u001b[0m\n\u001b[1;32m    208\u001b[0m \u001b[39mtry\u001b[39;00m:\n\u001b[1;32m    209\u001b[0m     \u001b[39mwith\u001b[39;00m config_context(\n\u001b[1;32m    210\u001b[0m         skip_parameter_validation\u001b[39m=\u001b[39m(\n\u001b[1;32m    211\u001b[0m             prefer_skip_nested_validation \u001b[39mor\u001b[39;00m global_skip_validation\n\u001b[1;32m    212\u001b[0m         )\n\u001b[1;32m    213\u001b[0m     ):\n\u001b[0;32m--> 214\u001b[0m         \u001b[39mreturn\u001b[39;00m func(\u001b[39m*\u001b[39;49margs, \u001b[39m*\u001b[39;49m\u001b[39m*\u001b[39;49mkwargs)\n\u001b[1;32m    215\u001b[0m \u001b[39mexcept\u001b[39;00m InvalidParameterError \u001b[39mas\u001b[39;00m e:\n\u001b[1;32m    216\u001b[0m     \u001b[39m# When the function is just a wrapper around an estimator, we allow\u001b[39;00m\n\u001b[1;32m    217\u001b[0m     \u001b[39m# the function to delegate validation to the estimator, but we replace\u001b[39;00m\n\u001b[1;32m    218\u001b[0m     \u001b[39m# the name of the estimator by the name of the function in the error\u001b[39;00m\n\u001b[1;32m    219\u001b[0m     \u001b[39m# message to avoid confusion.\u001b[39;00m\n\u001b[1;32m    220\u001b[0m     msg \u001b[39m=\u001b[39m re\u001b[39m.\u001b[39msub(\n\u001b[1;32m    221\u001b[0m         \u001b[39mr\u001b[39m\u001b[39m\"\u001b[39m\u001b[39mparameter of \u001b[39m\u001b[39m\\\u001b[39m\u001b[39mw+ must be\u001b[39m\u001b[39m\"\u001b[39m,\n\u001b[1;32m    222\u001b[0m         \u001b[39mf\u001b[39m\u001b[39m\"\u001b[39m\u001b[39mparameter of \u001b[39m\u001b[39m{\u001b[39;00mfunc\u001b[39m.\u001b[39m\u001b[39m__qualname__\u001b[39m\u001b[39m}\u001b[39;00m\u001b[39m must be\u001b[39m\u001b[39m\"\u001b[39m,\n\u001b[1;32m    223\u001b[0m         \u001b[39mstr\u001b[39m(e),\n\u001b[1;32m    224\u001b[0m     )\n",
      "File \u001b[0;32m~/miniconda3/lib/python3.9/site-packages/sklearn/inspection/_partial_dependence.py:706\u001b[0m, in \u001b[0;36mpartial_dependence\u001b[0;34m(estimator, X, features, sample_weight, categorical_features, feature_names, response_method, percentiles, grid_resolution, method, kind)\u001b[0m\n\u001b[1;32m    698\u001b[0m grid, values \u001b[39m=\u001b[39m _grid_from_X(\n\u001b[1;32m    699\u001b[0m     _safe_indexing(X, features_indices, axis\u001b[39m=\u001b[39m\u001b[39m1\u001b[39m),\n\u001b[1;32m    700\u001b[0m     percentiles,\n\u001b[1;32m    701\u001b[0m     is_categorical,\n\u001b[1;32m    702\u001b[0m     grid_resolution,\n\u001b[1;32m    703\u001b[0m )\n\u001b[1;32m    705\u001b[0m \u001b[39mif\u001b[39;00m method \u001b[39m==\u001b[39m \u001b[39m\"\u001b[39m\u001b[39mbrute\u001b[39m\u001b[39m\"\u001b[39m:\n\u001b[0;32m--> 706\u001b[0m     averaged_predictions, predictions \u001b[39m=\u001b[39m _partial_dependence_brute(\n\u001b[1;32m    707\u001b[0m         estimator, grid, features_indices, X, response_method, sample_weight\n\u001b[1;32m    708\u001b[0m     )\n\u001b[1;32m    710\u001b[0m     \u001b[39m# reshape predictions to\u001b[39;00m\n\u001b[1;32m    711\u001b[0m     \u001b[39m# (n_outputs, n_instances, n_values_feature_0, n_values_feature_1, ...)\u001b[39;00m\n\u001b[1;32m    712\u001b[0m     predictions \u001b[39m=\u001b[39m predictions\u001b[39m.\u001b[39mreshape(\n\u001b[1;32m    713\u001b[0m         \u001b[39m-\u001b[39m\u001b[39m1\u001b[39m, X\u001b[39m.\u001b[39mshape[\u001b[39m0\u001b[39m], \u001b[39m*\u001b[39m[val\u001b[39m.\u001b[39mshape[\u001b[39m0\u001b[39m] \u001b[39mfor\u001b[39;00m val \u001b[39min\u001b[39;00m values]\n\u001b[1;32m    714\u001b[0m     )\n",
      "File \u001b[0;32m~/miniconda3/lib/python3.9/site-packages/sklearn/inspection/_partial_dependence.py:310\u001b[0m, in \u001b[0;36m_partial_dependence_brute\u001b[0;34m(est, grid, features, X, response_method, sample_weight)\u001b[0m\n\u001b[1;32m    301\u001b[0m     _safe_assign(X_eval, new_values[i], column_indexer\u001b[39m=\u001b[39mvariable)\n\u001b[1;32m    303\u001b[0m \u001b[39mtry\u001b[39;00m:\n\u001b[1;32m    304\u001b[0m     \u001b[39m# Note: predictions is of shape\u001b[39;00m\n\u001b[1;32m    305\u001b[0m     \u001b[39m# (n_points,) for non-multioutput regressors\u001b[39;00m\n\u001b[0;32m   (...)\u001b[0m\n\u001b[1;32m    308\u001b[0m     \u001b[39m# (n_points, 2) for binary classification\u001b[39;00m\n\u001b[1;32m    309\u001b[0m     \u001b[39m# (n_points, n_classes) for multiclass classification\u001b[39;00m\n\u001b[0;32m--> 310\u001b[0m     pred \u001b[39m=\u001b[39m prediction_method(X_eval)\n\u001b[1;32m    312\u001b[0m     predictions\u001b[39m.\u001b[39mappend(pred)\n\u001b[1;32m    313\u001b[0m     \u001b[39m# average over samples\u001b[39;00m\n",
      "File \u001b[0;32m~/miniconda3/lib/python3.9/site-packages/xgboost/sklearn.py:1628\u001b[0m, in \u001b[0;36mXGBClassifier.predict_proba\u001b[0;34m(self, X, validate_features, base_margin, iteration_range)\u001b[0m\n\u001b[1;32m   1626\u001b[0m     class_prob \u001b[39m=\u001b[39m softmax(raw_predt, axis\u001b[39m=\u001b[39m\u001b[39m1\u001b[39m)\n\u001b[1;32m   1627\u001b[0m     \u001b[39mreturn\u001b[39;00m class_prob\n\u001b[0;32m-> 1628\u001b[0m class_probs \u001b[39m=\u001b[39m \u001b[39msuper\u001b[39;49m()\u001b[39m.\u001b[39;49mpredict(\n\u001b[1;32m   1629\u001b[0m     X\u001b[39m=\u001b[39;49mX,\n\u001b[1;32m   1630\u001b[0m     validate_features\u001b[39m=\u001b[39;49mvalidate_features,\n\u001b[1;32m   1631\u001b[0m     base_margin\u001b[39m=\u001b[39;49mbase_margin,\n\u001b[1;32m   1632\u001b[0m     iteration_range\u001b[39m=\u001b[39;49miteration_range,\n\u001b[1;32m   1633\u001b[0m )\n\u001b[1;32m   1634\u001b[0m \u001b[39mreturn\u001b[39;00m _cls_predict_proba(\u001b[39mself\u001b[39m\u001b[39m.\u001b[39mn_classes_, class_probs, np\u001b[39m.\u001b[39mvstack)\n",
      "File \u001b[0;32m~/miniconda3/lib/python3.9/site-packages/xgboost/sklearn.py:1164\u001b[0m, in \u001b[0;36mXGBModel.predict\u001b[0;34m(self, X, output_margin, validate_features, base_margin, iteration_range)\u001b[0m\n\u001b[1;32m   1162\u001b[0m \u001b[39mif\u001b[39;00m \u001b[39mself\u001b[39m\u001b[39m.\u001b[39m_can_use_inplace_predict():\n\u001b[1;32m   1163\u001b[0m     \u001b[39mtry\u001b[39;00m:\n\u001b[0;32m-> 1164\u001b[0m         predts \u001b[39m=\u001b[39m \u001b[39mself\u001b[39;49m\u001b[39m.\u001b[39;49mget_booster()\u001b[39m.\u001b[39;49minplace_predict(\n\u001b[1;32m   1165\u001b[0m             data\u001b[39m=\u001b[39;49mX,\n\u001b[1;32m   1166\u001b[0m             iteration_range\u001b[39m=\u001b[39;49miteration_range,\n\u001b[1;32m   1167\u001b[0m             predict_type\u001b[39m=\u001b[39;49m\u001b[39m\"\u001b[39;49m\u001b[39mmargin\u001b[39;49m\u001b[39m\"\u001b[39;49m \u001b[39mif\u001b[39;49;00m output_margin \u001b[39melse\u001b[39;49;00m \u001b[39m\"\u001b[39;49m\u001b[39mvalue\u001b[39;49m\u001b[39m\"\u001b[39;49m,\n\u001b[1;32m   1168\u001b[0m             missing\u001b[39m=\u001b[39;49m\u001b[39mself\u001b[39;49m\u001b[39m.\u001b[39;49mmissing,\n\u001b[1;32m   1169\u001b[0m             base_margin\u001b[39m=\u001b[39;49mbase_margin,\n\u001b[1;32m   1170\u001b[0m             validate_features\u001b[39m=\u001b[39;49mvalidate_features,\n\u001b[1;32m   1171\u001b[0m         )\n\u001b[1;32m   1172\u001b[0m         \u001b[39mif\u001b[39;00m _is_cupy_array(predts):\n\u001b[1;32m   1173\u001b[0m             \u001b[39mimport\u001b[39;00m \u001b[39mcupy\u001b[39;00m  \u001b[39m# pylint: disable=import-error\u001b[39;00m\n",
      "File \u001b[0;32m~/miniconda3/lib/python3.9/site-packages/xgboost/core.py:2416\u001b[0m, in \u001b[0;36mBooster.inplace_predict\u001b[0;34m(self, data, iteration_range, predict_type, missing, validate_features, base_margin, strict_shape)\u001b[0m\n\u001b[1;32m   2414\u001b[0m     data, fns, _ \u001b[39m=\u001b[39m _transform_pandas_df(data, enable_categorical)\n\u001b[1;32m   2415\u001b[0m     \u001b[39mif\u001b[39;00m validate_features:\n\u001b[0;32m-> 2416\u001b[0m         \u001b[39mself\u001b[39;49m\u001b[39m.\u001b[39;49m_validate_features(fns)\n\u001b[1;32m   2417\u001b[0m \u001b[39mif\u001b[39;00m _is_list(data) \u001b[39mor\u001b[39;00m _is_tuple(data):\n\u001b[1;32m   2418\u001b[0m     data \u001b[39m=\u001b[39m np\u001b[39m.\u001b[39marray(data)\n",
      "File \u001b[0;32m~/miniconda3/lib/python3.9/site-packages/xgboost/core.py:2968\u001b[0m, in \u001b[0;36mBooster._validate_features\u001b[0;34m(self, feature_names)\u001b[0m\n\u001b[1;32m   2962\u001b[0m \u001b[39mif\u001b[39;00m my_missing:\n\u001b[1;32m   2963\u001b[0m     msg \u001b[39m+\u001b[39m\u001b[39m=\u001b[39m (\n\u001b[1;32m   2964\u001b[0m         \u001b[39m\"\u001b[39m\u001b[39m\\n\u001b[39;00m\u001b[39mtraining data did not have the following fields: \u001b[39m\u001b[39m\"\u001b[39m\n\u001b[1;32m   2965\u001b[0m         \u001b[39m+\u001b[39m \u001b[39m\"\u001b[39m\u001b[39m, \u001b[39m\u001b[39m\"\u001b[39m\u001b[39m.\u001b[39mjoin(\u001b[39mstr\u001b[39m(s) \u001b[39mfor\u001b[39;00m s \u001b[39min\u001b[39;00m my_missing)\n\u001b[1;32m   2966\u001b[0m     )\n\u001b[0;32m-> 2968\u001b[0m \u001b[39mraise\u001b[39;00m \u001b[39mValueError\u001b[39;00m(msg\u001b[39m.\u001b[39mformat(\u001b[39mself\u001b[39m\u001b[39m.\u001b[39mfeature_names, feature_names))\n",
      "\u001b[0;31mValueError\u001b[0m: feature_names mismatch: ['A1_Score', 'A2_Score', 'A3_Score', 'A4_Score', 'A5_Score', 'A6_Score', 'A7_Score', 'A8_Score', 'A9_Score', 'A10_Score', 'age', 'gender', 'jaundice', 'autism', 'used_app_before', 'result', 'age_desc', 'country_of_res=Afghanistan', 'country_of_res=AmericanSamoa', 'country_of_res=Angola', 'country_of_res=Argentina', 'country_of_res=Armenia', 'country_of_res=Aruba', 'country_of_res=Australia', 'country_of_res=Austria', 'country_of_res=Azerbaijan', 'country_of_res=Bahamas', 'country_of_res=Bangladesh', 'country_of_res=Belgium', 'country_of_res=Bolivia', 'country_of_res=Brazil', 'country_of_res=Burundi', 'country_of_res=Canada', 'country_of_res=China', 'country_of_res=Cyprus', 'country_of_res=Czech Republic', 'country_of_res=Egypt', 'country_of_res=Ethiopia', 'country_of_res=France', 'country_of_res=Germany', 'country_of_res=Hong Kong', 'country_of_res=Iceland', 'country_of_res=India', 'country_of_res=Iran', 'country_of_res=Iraq', 'country_of_res=Ireland', 'country_of_res=Italy', 'country_of_res=Japan', 'country_of_res=Jordan', 'country_of_res=Kazakhstan', 'country_of_res=Malaysia', 'country_of_res=Mexico', 'country_of_res=Netherlands', 'country_of_res=New Zealand', 'country_of_res=Nicaragua', 'country_of_res=Niger', 'country_of_res=Oman', 'country_of_res=Pakistan', 'country_of_res=Romania', 'country_of_res=Russia', 'country_of_res=Saudi Arabia', 'country_of_res=Serbia', 'country_of_res=Sierra Leone', 'country_of_res=South Africa', 'country_of_res=Spain', 'country_of_res=Sri Lanka', 'country_of_res=Sweden', 'country_of_res=Tonga', 'country_of_res=Ukraine', 'country_of_res=United Arab Emirates', 'country_of_res=United Kingdom', 'country_of_res=United States', 'country_of_res=Viet Nam', 'ethnicity=?', 'ethnicity=Asian', 'ethnicity=Black', 'ethnicity=Hispanic', 'ethnicity=Latino', 'ethnicity=Middle Eastern ', 'ethnicity=Others', 'ethnicity=Pasifika', 'ethnicity=South Asian', 'ethnicity=Turkish', 'ethnicity=White-European', 'ethnicity=others', 'relation=?', 'relation=Health care professional', 'relation=Others', 'relation=Parent', 'relation=Relative', 'relation=Self'] ['ID', 'A1_Score', 'A2_Score', 'A3_Score', 'A4_Score', 'A5_Score', 'A6_Score', 'A7_Score', 'A8_Score', 'A9_Score', 'A10_Score', 'age', 'gender', 'ethnicity', 'jaundice', 'austim', 'contry_of_res', 'used_app_before', 'result', 'age_desc', 'relation', 'Class/ASD']\nexpected ethnicity=South Asian, country_of_res=Italy, relation=Relative, country_of_res=Niger, country_of_res=Egypt, country_of_res=Iran, country_of_res=Japan, country_of_res=Sri Lanka, country_of_res=Oman, country_of_res=Brazil, country_of_res=India, country_of_res=Netherlands, country_of_res=AmericanSamoa, ethnicity=?, country_of_res=Azerbaijan, country_of_res=Serbia, country_of_res=United Arab Emirates, country_of_res=Bangladesh, relation=Others, country_of_res=Aruba, country_of_res=Germany, country_of_res=Spain, country_of_res=France, country_of_res=Romania, autism, ethnicity=White-European, country_of_res=Saudi Arabia, ethnicity=Asian, relation=Health care professional, country_of_res=Mexico, ethnicity=Turkish, country_of_res=Burundi, country_of_res=New Zealand, relation=Self, relation=?, country_of_res=Ukraine, ethnicity=Pasifika, country_of_res=Viet Nam, country_of_res=Malaysia, country_of_res=Nicaragua, country_of_res=Russia, relation=Parent, ethnicity=Latino, country_of_res=Bahamas, country_of_res=Cyprus, country_of_res=Kazakhstan, country_of_res=Ireland, ethnicity=Others, country_of_res=Ethiopia, country_of_res=Sweden, country_of_res=Canada, country_of_res=Iraq, ethnicity=Hispanic, country_of_res=United Kingdom, ethnicity=Black, country_of_res=Angola, country_of_res=Afghanistan, country_of_res=Tonga, country_of_res=Iceland, country_of_res=Sierra Leone, country_of_res=Hong Kong, country_of_res=Australia, country_of_res=Bolivia, country_of_res=Pakistan, country_of_res=Belgium, ethnicity=Middle Eastern , country_of_res=China, country_of_res=United States, country_of_res=Jordan, country_of_res=South Africa, ethnicity=others, country_of_res=Austria, country_of_res=Czech Republic, country_of_res=Argentina, country_of_res=Armenia in input data\ntraining data did not have the following fields: contry_of_res, relation, ID, ethnicity, Class/ASD, austim"
     ]
    },
    {
     "data": {
      "image/png": "[encoded data removed]",
      "text/plain": [
       "<Figure size 720x432 with 1 Axes>"
      ]
     },
     "metadata": {
      "needs_background": "light"
     },
     "output_type": "display_data"
    }
   ],
   "source": [
    "import pandas as pd\n",
    "import numpy as np\n",
    "import matplotlib.pyplot as plt\n",
    "from sklearn.inspection import PartialDependenceDisplay\n",
    "import xgboost as xgb\n",
    "import pickle\n",
    "\n",
    "# Load your dataset\n",
    "df = pd.read_csv('../data/train.csv')\n",
    "\n",
    "categorical_features = ['gender', 'ethnicity', 'jaundice', 'austim', 'contry_of_res', 'used_app_before', 'age_desc', 'relation']\n",
    "for feature in categorical_features:\n",
    "    df[feature] = df[feature].astype('category')\n",
    "\n",
    "# Load your trained XGBoost model\n",
    "with open('../models/xgb.pkl', 'rb') as f:\n",
    "    xgb_model = pickle.load(f)\n",
    "\n",
    "feature_name = 'age'\n",
    "\n",
    "\n",
    "# Check if the feature is numeric before proceeding\n",
    "if df[feature_name].dtype.kind in 'if':  # 'i' for integer, 'f' for float\n",
    "    # Create the grid of values for the feature\n",
    "    feature_values = np.linspace(df[feature_name].min(), df[feature_name].max(), 50)\n",
    "\n",
    "    # Generate the partial dependence plot data\n",
    "    fig, ax = plt.subplots(figsize=(10, 6))\n",
    "    display = PartialDependenceDisplay.from_estimator(\n",
    "        xgb_model,\n",
    "        X=df,\n",
    "        features=[feature_name],\n",
    "        kind='average',  # or 'both' to include individual predictions\n",
    "        grid_resolution=50,  # Adjust the resolution for curve smoothness\n",
    "        feature_names=df.columns,\n",
    "        ax=ax\n",
    "    )\n",
    "\n",
    "    # Customize the plot with title, labels, etc.\n",
    "    ax.set_title(f'Partial Dependence Plot for {feature_name}')\n",
    "    ax.set_xlabel(f'{feature_name}')\n",
    "    ax.set_ylabel('Average prediction')\n",
    "    plt.show()\n",
    "else:\n",
    "    print(f'The feature \"{feature_name}\" is not numeric and cannot be used for PDP as is.')\n"
   ]
  },
  {
   "cell_type": "code",
   "execution_count": null,
   "metadata": {},
   "outputs": [],
   "source": []
  }
 ],
 "metadata": {
  "kernelspec": {
   "display_name": "Python 3",
   "language": "python",
   "name": "python3"
  },
  "language_info": {
   "codemirror_mode": {
    "name": "ipython",
    "version": 3
   },
   "file_extension": ".py",
   "mimetype": "text/x-python",
   "name": "python",
   "nbconvert_exporter": "python",
   "pygments_lexer": "ipython3",
   "version": "3.9.12"
  },
  "orig_nbformat": 4
 },
 "nbformat": 4,
 "nbformat_minor": 2
}
