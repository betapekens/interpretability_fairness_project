{
 "cells": [
  {
   "cell_type": "code",
   "execution_count": 23,
   "metadata": {},
   "outputs": [
    {
     "name": "stdout",
     "output_type": "stream",
     "text": [
      "c:\\Users\\Rehan Ibrahim\\OneDrive - HEC Paris\\Desktop\\interpretability_fairness_project\n"
     ]
    }
   ],
   "source": [
    "cd .."
   ]
  },
  {
   "cell_type": "code",
   "execution_count": 24,
   "metadata": {},
   "outputs": [
    {
     "name": "stdout",
     "output_type": "stream",
     "text": [
      "c:\\Users\\Rehan Ibrahim\\OneDrive - HEC Paris\\Desktop\\interpretability_fairness_project\\src\n"
     ]
    }
   ],
   "source": [
    "cd src"
   ]
  },
  {
   "cell_type": "code",
   "execution_count": 261,
   "metadata": {},
   "outputs": [],
   "source": [
    "import pandas as pd\n",
    "import numpy as np\n",
    "import pickle\n",
    "from sklearn.metrics import accuracy_score\n",
    "import matplotlib.pyplot as plt\n",
    "from preprocess import preprocess\n",
    "from main import main\n",
    "# Ignoring future warnings in Python\n",
    "import warnings\n",
    "warnings.simplefilter(action='ignore', category=FutureWarning)"
   ]
  },
  {
   "cell_type": "markdown",
   "metadata": {},
   "source": [
    "## Model Loading"
   ]
  },
  {
   "cell_type": "code",
   "execution_count": 262,
   "metadata": {},
   "outputs": [],
   "source": [
    "# Paths\n",
    "model_path = '../models/xgb.pkl'\n",
    "data_path = '../data/train.csv'"
   ]
  },
  {
   "cell_type": "code",
   "execution_count": 263,
   "metadata": {},
   "outputs": [
    {
     "name": "stdout",
     "output_type": "stream",
     "text": [
      "Loading data ...\n",
      "Encoding variables ...\n",
      "Training ...\n",
      "[03:55:07] WARNING: C:/Users/Administrator/workspace/xgboost-win64_release_1.5.1/src/learner.cc:576: \n",
      "Parameters: { \"device\" } might not be used.\n",
      "\n",
      "  This could be a false alarm, with some parameters getting used by language bindings but\n",
      "  then being mistakenly passed down to XGBoost core, or some parameter actually being used\n",
      "  but getting flagged wrongly here. Please open an issue if you find any such cases.\n",
      "\n",
      "\n",
      "[03:55:07] WARNING: C:/Users/Administrator/workspace/xgboost-win64_release_1.5.1/src/learner.cc:576: \n",
      "Parameters: { \"device\" } might not be used.\n",
      "\n",
      "  This could be a false alarm, with some parameters getting used by language bindings but\n",
      "  then being mistakenly passed down to XGBoost core, or some parameter actually being used\n",
      "  but getting flagged wrongly here. Please open an issue if you find any such cases.\n",
      "\n",
      "\n"
     ]
    },
    {
     "name": "stderr",
     "output_type": "stream",
     "text": [
      "c:\\Users\\Rehan Ibrahim\\AppData\\Local\\Programs\\Python\\Python310\\lib\\site-packages\\xgboost\\sklearn.py:1224: UserWarning: The use of label encoder in XGBClassifier is deprecated and will be removed in a future release. To remove this warning, do the following: 1) Pass option use_label_encoder=False when constructing XGBClassifier object; and 2) Encode your labels (y) as integers starting with 0, i.e. 0, 1, 2, ..., [num_class - 1].\n",
      "  warnings.warn(label_encoder_deprecation_msg, UserWarning)\n",
      "c:\\Users\\Rehan Ibrahim\\AppData\\Local\\Programs\\Python\\Python310\\lib\\site-packages\\xgboost\\sklearn.py:1224: UserWarning: The use of label encoder in XGBClassifier is deprecated and will be removed in a future release. To remove this warning, do the following: 1) Pass option use_label_encoder=False when constructing XGBClassifier object; and 2) Encode your labels (y) as integers starting with 0, i.e. 0, 1, 2, ..., [num_class - 1].\n",
      "  warnings.warn(label_encoder_deprecation_msg, UserWarning)\n",
      "c:\\Users\\Rehan Ibrahim\\AppData\\Local\\Programs\\Python\\Python310\\lib\\site-packages\\xgboost\\sklearn.py:1224: UserWarning: The use of label encoder in XGBClassifier is deprecated and will be removed in a future release. To remove this warning, do the following: 1) Pass option use_label_encoder=False when constructing XGBClassifier object; and 2) Encode your labels (y) as integers starting with 0, i.e. 0, 1, 2, ..., [num_class - 1].\n",
      "  warnings.warn(label_encoder_deprecation_msg, UserWarning)\n"
     ]
    },
    {
     "name": "stdout",
     "output_type": "stream",
     "text": [
      "[03:55:07] WARNING: C:/Users/Administrator/workspace/xgboost-win64_release_1.5.1/src/learner.cc:576: \n",
      "Parameters: { \"device\" } might not be used.\n",
      "\n",
      "  This could be a false alarm, with some parameters getting used by language bindings but\n",
      "  then being mistakenly passed down to XGBoost core, or some parameter actually being used\n",
      "  but getting flagged wrongly here. Please open an issue if you find any such cases.\n",
      "\n",
      "\n",
      "[03:55:07] WARNING: C:/Users/Administrator/workspace/xgboost-win64_release_1.5.1/src/learner.cc:576: \n",
      "Parameters: { \"device\" } might not be used.\n",
      "\n",
      "  This could be a false alarm, with some parameters getting used by language bindings but\n",
      "  then being mistakenly passed down to XGBoost core, or some parameter actually being used\n",
      "  but getting flagged wrongly here. Please open an issue if you find any such cases.\n",
      "\n",
      "\n"
     ]
    },
    {
     "name": "stderr",
     "output_type": "stream",
     "text": [
      "c:\\Users\\Rehan Ibrahim\\AppData\\Local\\Programs\\Python\\Python310\\lib\\site-packages\\xgboost\\sklearn.py:1224: UserWarning: The use of label encoder in XGBClassifier is deprecated and will be removed in a future release. To remove this warning, do the following: 1) Pass option use_label_encoder=False when constructing XGBClassifier object; and 2) Encode your labels (y) as integers starting with 0, i.e. 0, 1, 2, ..., [num_class - 1].\n",
      "  warnings.warn(label_encoder_deprecation_msg, UserWarning)\n",
      "c:\\Users\\Rehan Ibrahim\\AppData\\Local\\Programs\\Python\\Python310\\lib\\site-packages\\xgboost\\sklearn.py:1224: UserWarning: The use of label encoder in XGBClassifier is deprecated and will be removed in a future release. To remove this warning, do the following: 1) Pass option use_label_encoder=False when constructing XGBClassifier object; and 2) Encode your labels (y) as integers starting with 0, i.e. 0, 1, 2, ..., [num_class - 1].\n",
      "  warnings.warn(label_encoder_deprecation_msg, UserWarning)\n"
     ]
    },
    {
     "name": "stdout",
     "output_type": "stream",
     "text": [
      "[03:55:07] WARNING: C:/Users/Administrator/workspace/xgboost-win64_release_1.5.1/src/learner.cc:576: \n",
      "Parameters: { \"device\" } might not be used.\n",
      "\n",
      "  This could be a false alarm, with some parameters getting used by language bindings but\n",
      "  then being mistakenly passed down to XGBoost core, or some parameter actually being used\n",
      "  but getting flagged wrongly here. Please open an issue if you find any such cases.\n",
      "\n",
      "\n",
      "[03:55:07] WARNING: C:/Users/Administrator/workspace/xgboost-win64_release_1.5.1/src/learner.cc:576: \n",
      "Parameters: { \"device\" } might not be used.\n",
      "\n",
      "  This could be a false alarm, with some parameters getting used by language bindings but\n",
      "  then being mistakenly passed down to XGBoost core, or some parameter actually being used\n",
      "  but getting flagged wrongly here. Please open an issue if you find any such cases.\n",
      "\n",
      "\n",
      "The individual scores are:[0.85327148 0.86914062 0.90234375 0.86254883 0.89453591]\n",
      "The mean cross validation score is:0.8763681195567884\n"
     ]
    },
    {
     "name": "stderr",
     "output_type": "stream",
     "text": [
      "c:\\Users\\Rehan Ibrahim\\AppData\\Local\\Programs\\Python\\Python310\\lib\\site-packages\\xgboost\\sklearn.py:1224: UserWarning: The use of label encoder in XGBClassifier is deprecated and will be removed in a future release. To remove this warning, do the following: 1) Pass option use_label_encoder=False when constructing XGBClassifier object; and 2) Encode your labels (y) as integers starting with 0, i.e. 0, 1, 2, ..., [num_class - 1].\n",
      "  warnings.warn(label_encoder_deprecation_msg, UserWarning)\n"
     ]
    }
   ],
   "source": [
    "main(model_path,data_path)"
   ]
  },
  {
   "cell_type": "code",
   "execution_count": 274,
   "metadata": {},
   "outputs": [
    {
     "name": "stdout",
     "output_type": "stream",
     "text": [
      "Encoding variables ...\n"
     ]
    }
   ],
   "source": [
    "# Load the XGBoost model\n",
    "with open(model_path, 'rb') as file:\n",
    "    xgb_model = pickle.load(file)\n",
    "\n",
    "# Load the dataset\n",
    "data = pd.read_csv(data_path)\n",
    "X,y = preprocess(data)\n",
    "X = X.drop('ID',axis=1)"
   ]
  },
  {
   "cell_type": "code",
   "execution_count": 265,
   "metadata": {},
   "outputs": [
    {
     "data": {
      "text/plain": [
       "Index(['A1_Score', 'A2_Score', 'A3_Score', 'A4_Score', 'A5_Score', 'A6_Score',\n",
       "       'A7_Score', 'A8_Score', 'A9_Score', 'A10_Score', 'age', 'jaundice',\n",
       "       'autism', 'used_app_before', 'result', 'age_desc',\n",
       "       'country_of_res=afghanistan', 'country_of_res=australia',\n",
       "       'country_of_res=austria', 'country_of_res=brazil',\n",
       "       'country_of_res=canada', 'country_of_res=france',\n",
       "       'country_of_res=india', 'country_of_res=jordan',\n",
       "       'country_of_res=kazakhstan', 'country_of_res=netherlands',\n",
       "       'country_of_res=new_zealand', 'country_of_res=other',\n",
       "       'country_of_res=spain', 'country_of_res=sri_lanka',\n",
       "       'country_of_res=united_arab_emirates', 'country_of_res=united_kingdom',\n",
       "       'country_of_res=united_states', 'ethnicity=asian', 'ethnicity=black',\n",
       "       'ethnicity=latino', 'ethnicity=middle_eastern', 'ethnicity=other',\n",
       "       'ethnicity=others', 'ethnicity=pasifika', 'ethnicity=south_asian',\n",
       "       'ethnicity=white-european', 'gender=f', 'gender=m',\n",
       "       'relation=Health care professional', 'relation=Others',\n",
       "       'relation=Parent', 'relation=Relative', 'relation=Self', 'sum_scores'],\n",
       "      dtype='object')"
      ]
     },
     "execution_count": 265,
     "metadata": {},
     "output_type": "execute_result"
    }
   ],
   "source": [
    "X.columns"
   ]
  },
  {
   "cell_type": "markdown",
   "metadata": {},
   "source": [
    "## Statistical Parity Test"
   ]
  },
  {
   "cell_type": "code",
   "execution_count": 275,
   "metadata": {},
   "outputs": [
    {
     "name": "stdout",
     "output_type": "stream",
     "text": [
      "Encoding variables ...\n",
      "Statistical Parity Difference: 0.03406602144241333\n"
     ]
    }
   ],
   "source": [
    "import pandas as pd\n",
    "from sklearn.metrics import accuracy_score\n",
    "\n",
    "# Function to calculate statistical parity difference\n",
    "def calculate_statistical_parity_difference(X, model, protected_attribute):\n",
    "    \"\"\"\n",
    "    Calculate the statistical parity difference for a protected attribute.\n",
    "    \n",
    "    Parameters:\n",
    "    X (pd.DataFrame): The preprocessed feature dataframe without the protected attribute.\n",
    "    model (model object): The trained model used to make predictions.\n",
    "    protected_attribute (str): The name of the protected attribute column prefix in X.\n",
    "    \n",
    "    Returns:\n",
    "    float: The statistical parity difference.\n",
    "    \"\"\"\n",
    "    X = X.drop('ID',axis=1)\n",
    "    # Make sure that the protected attribute columns are included in X\n",
    "    protected_cols = [col for col in X.columns if col.startswith(protected_attribute + '=')]\n",
    "\n",
    "    # If the check passes, proceed to make predictions\n",
    "   \n",
    "    predicted_probabilities = model.predict_proba(X)[:, 1]\n",
    "\n",
    "    # Compute the mean predicted probability for each group\n",
    "    group_means = X[protected_cols].apply(lambda col: predicted_probabilities[col==1].mean(), axis=0)\n",
    "\n",
    "    # Calculate the statistical parity difference\n",
    "    statistical_parity_difference = abs(group_means.diff().dropna()).values[0]\n",
    "    \n",
    "    return statistical_parity_difference\n",
    "\n",
    "# Load your trained model\n",
    "with open(model_path, 'rb') as file:\n",
    "    xgb_model = pickle.load(file)\n",
    "\n",
    "# Load your dataset and preprocess\n",
    "df = pd.read_csv(data_path)\n",
    "X, y = preprocess(df)  # Ensure this aligns with your training preprocessing\n",
    "\n",
    "# Calculate statistical parity difference\n",
    "spd = calculate_statistical_parity_difference(X, xgb_model, 'gender')\n",
    "print(f'Statistical Parity Difference: {spd}')\n"
   ]
  },
  {
   "cell_type": "code",
   "execution_count": 276,
   "metadata": {},
   "outputs": [
    {
     "name": "stdout",
     "output_type": "stream",
     "text": [
      "p-value for chi-squared test: 0.5129609439709888\n"
     ]
    }
   ],
   "source": [
    "# Filter the predictions and true labels for each subgroup\n",
    "male_mask = X['gender=m'] == 1  # Assuming that 'gender=m' indicates male\n",
    "female_mask = X['gender=f'] == 1  # Assuming that 'gender=f' indicates female\n",
    "\n",
    "# Step 3: Count outcomes\n",
    "# Male group\n",
    "a = sum((predictions == 1) & male_mask)  # Predicted Positive and Actual Male\n",
    "b = sum((predictions == 0) & male_mask)  # Predicted Negative and Actual Male\n",
    "\n",
    "# Female group\n",
    "c = sum((predictions == 1) & female_mask)  # Predicted Positive and Actual Female\n",
    "d = sum((predictions == 0) & female_mask)  # Predicted Negative and Actual Female\n",
    "\n",
    "# Create the contingency table\n",
    "contingency_table = np.array([[a, b], [c, d]])\n",
    "\n",
    "from scipy.stats import chi2_contingency\n",
    "\n",
    "# Perform the chi-squared test\n",
    "chi2, p, dof, expected = chi2_contingency(contingency_table)\n",
    "\n",
    "# Output the p-value\n",
    "print(\"p-value for chi-squared test:\", p)"
   ]
  },
  {
   "cell_type": "code",
   "execution_count": 303,
   "metadata": {},
   "outputs": [
    {
     "data": {
      "image/png": "[encoded data removed]",
      "text/plain": [
       "<Figure size 800x600 with 2 Axes>"
      ]
     },
     "metadata": {},
     "output_type": "display_data"
    }
   ],
   "source": [
    "# Heatmap for Contingency Table\n",
    "plt.figure(figsize=(8, 6))\n",
    "sns.heatmap(contingency_table, annot=True, cmap='coolwarm', fmt='g')\n",
    "plt.title('Contingency Table Heatmap')\n",
    "plt.xlabel('Predicted Outcome')\n",
    "plt.ylabel('Actual Gender Group')\n",
    "plt.xticks([0.5, 1.5], ['Positive', 'Negative'])\n",
    "plt.yticks([0.5, 1.5], ['Male', 'Female'])\n",
    "plt.show()"
   ]
  },
  {
   "cell_type": "markdown",
   "metadata": {},
   "source": [
    "## Conditional Statistical Parity Test"
   ]
  },
  {
   "cell_type": "code",
   "execution_count": 277,
   "metadata": {},
   "outputs": [
    {
     "data": {
      "text/plain": [
       "Index(['ID', 'A1_Score', 'A2_Score', 'A3_Score', 'A4_Score', 'A5_Score',\n",
       "       'A6_Score', 'A7_Score', 'A8_Score', 'A9_Score', 'A10_Score', 'age',\n",
       "       'jaundice', 'autism', 'used_app_before', 'result', 'age_desc',\n",
       "       'country_of_res=afghanistan', 'country_of_res=australia',\n",
       "       'country_of_res=austria', 'country_of_res=brazil',\n",
       "       'country_of_res=canada', 'country_of_res=france',\n",
       "       'country_of_res=india', 'country_of_res=jordan',\n",
       "       'country_of_res=kazakhstan', 'country_of_res=netherlands',\n",
       "       'country_of_res=new_zealand', 'country_of_res=other',\n",
       "       'country_of_res=spain', 'country_of_res=sri_lanka',\n",
       "       'country_of_res=united_arab_emirates', 'country_of_res=united_kingdom',\n",
       "       'country_of_res=united_states', 'ethnicity=asian', 'ethnicity=black',\n",
       "       'ethnicity=latino', 'ethnicity=middle_eastern', 'ethnicity=other',\n",
       "       'ethnicity=others', 'ethnicity=pasifika', 'ethnicity=south_asian',\n",
       "       'ethnicity=white-european', 'gender=f', 'gender=m',\n",
       "       'relation=Health care professional', 'relation=Others',\n",
       "       'relation=Parent', 'relation=Relative', 'relation=Self', 'sum_scores'],\n",
       "      dtype='object')"
      ]
     },
     "execution_count": 277,
     "metadata": {},
     "output_type": "execute_result"
    }
   ],
   "source": [
    "X.columns"
   ]
  },
  {
   "cell_type": "code",
   "execution_count": 279,
   "metadata": {},
   "outputs": [
    {
     "name": "stdout",
     "output_type": "stream",
     "text": [
      "Encoding variables ...\n"
     ]
    }
   ],
   "source": [
    "# Load the XGBoost model\n",
    "with open(model_path, 'rb') as file:\n",
    "    xgb_model = pickle.load(file)\n",
    "\n",
    "# Load the dataset\n",
    "data = pd.read_csv(data_path)\n",
    "X,y = preprocess(data)\n",
    "X = X.drop('ID',axis=1)\n",
    "# Calculate predicted probabilities\n",
    "predicted_probabilities = xgb_model.predict_proba(X)[:, 1]\n",
    "X['predicted_prob'] = predicted_probabilities"
   ]
  },
  {
   "cell_type": "code",
   "execution_count": 284,
   "metadata": {},
   "outputs": [],
   "source": [
    "# Example age groupings\n",
    "bins = [0, 18, 35, 55, 100]  # Adjust these values based on your data\n",
    "labels = ['0-18', '19-35', '36-55', '56+']\n",
    "X['age_group'] = pd.cut(X['age'], bins=bins, labels=labels, right=False)\n"
   ]
  },
  {
   "cell_type": "code",
   "execution_count": 285,
   "metadata": {},
   "outputs": [
    {
     "name": "stdout",
     "output_type": "stream",
     "text": [
      "Average P-value across age groups: 0.41488502475069927\n"
     ]
    }
   ],
   "source": [
    "import scipy.stats as stats\n",
    "\n",
    "# Initialize an empty list for p-values\n",
    "p_values = []\n",
    "\n",
    "# Iterate over each age group\n",
    "for group in labels:\n",
    "    stratum = X[X['age_group'] == group]\n",
    "\n",
    "    group1 = stratum[stratum['gender=f'] == 0]['predicted_prob']\n",
    "    group2 = stratum[stratum['gender=f'] == 1]['predicted_prob']\n",
    "\n",
    "    # Perform a t-test or a non-parametric test\n",
    "    if len(group1) > 0 and len(group2) > 0:\n",
    "        t_stat, p_value = stats.ttest_ind(group1, group2, equal_var=False)\n",
    "        p_values.append(p_value)\n",
    "\n",
    "# Calculate and print the average p-value\n",
    "if p_values:\n",
    "    average_p_value = np.mean(p_values)\n",
    "    print(f'Average P-value across age groups: {average_p_value}')\n",
    "else:\n",
    "    print(\"No valid tests could be performed due to insufficient data.\")\n"
   ]
  },
  {
   "cell_type": "code",
   "execution_count": 294,
   "metadata": {},
   "outputs": [],
   "source": [
    "import pandas as pd\n",
    "\n",
    "bins = [0,50, 75,100,150]  # Example bins\n",
    "labels = ['0-1','2-3','4-5','6-7']\n",
    "X['sum_scores_group'] = pd.cut(X['sum_scores'], bins=bins, labels=labels, right=False)\n"
   ]
  },
  {
   "cell_type": "code",
   "execution_count": 291,
   "metadata": {},
   "outputs": [
    {
     "name": "stdout",
     "output_type": "stream",
     "text": [
      "Average P-value across sum scores: 0.19575071591674534\n"
     ]
    }
   ],
   "source": [
    "import scipy.stats as stats\n",
    "\n",
    "# Initialize an empty list for p-values\n",
    "p_values = []\n",
    "\n",
    "# Iterate over each sum\n",
    "for group in labels:\n",
    "    stratum = X[X['sum_scores_group'] == group]\n",
    "\n",
    "    group1 = stratum[stratum['gender=f'] == 0]['predicted_prob']\n",
    "    group2 = stratum[stratum['gender=f'] == 1]['predicted_prob']\n",
    "\n",
    "    # Perform a t-test \n",
    "    if len(group1) > 0 and len(group2) > 0:\n",
    "        t_stat, p_value = stats.ttest_ind(group1, group2, equal_var=False)\n",
    "        p_values.append(p_value)\n",
    "\n",
    "# Calculate and print the average p-value\n",
    "if p_values:\n",
    "    average_p_value = np.mean(p_values)\n",
    "    print(f'Average P-value across sum scores: {average_p_value}')\n",
    "else:\n",
    "    print(\"No valid tests could be performed due to insufficient data.\")"
   ]
  },
  {
   "cell_type": "code",
   "execution_count": 282,
   "metadata": {},
   "outputs": [
    {
     "name": "stdout",
     "output_type": "stream",
     "text": [
      "Average P-value across binary variable categories: 0.36930858362114405\n"
     ]
    }
   ],
   "source": [
    "import scipy.stats as stats\n",
    "\n",
    "# Initialize an empty list for p-values\n",
    "p_values = []\n",
    "\n",
    "# Iterate over each category of the binary variable\n",
    "for value in X['jaundice'].unique():\n",
    "    stratum = X[X['jaundice'] == value]\n",
    "\n",
    "    group1 = stratum[stratum['gender=m'] == 0]['predicted_prob']\n",
    "    group2 = stratum[stratum['gender=m'] == 1]['predicted_prob']\n",
    "\n",
    "    # Perform a t-test or a non-parametric test\n",
    "    if len(group1) > 0 and len(group2) > 0:\n",
    "        t_stat, p_value = stats.ttest_ind(group1, group2, equal_var=False)\n",
    "        p_values.append(p_value)\n",
    "\n",
    "# Calculate and print the average p-value\n",
    "if p_values:\n",
    "    average_p_value = np.mean(p_values)\n",
    "    print(f'Average P-value across binary variable categories: {average_p_value}')\n",
    "else:\n",
    "    print(\"No valid tests could be performed due to insufficient data.\")\n"
   ]
  },
  {
   "cell_type": "code",
   "execution_count": 283,
   "metadata": {},
   "outputs": [
    {
     "name": "stdout",
     "output_type": "stream",
     "text": [
      "Average P-value across binary variable categories: 0.28082664219317766\n"
     ]
    }
   ],
   "source": [
    "import scipy.stats as stats\n",
    "\n",
    "# Initialize an empty list for p-values\n",
    "p_values = []\n",
    "\n",
    "# Iterate over each category of the binary variable\n",
    "for value in X['used_app_before'].unique():\n",
    "    stratum = X[X['used_app_before'] == value]\n",
    "\n",
    "    group1 = stratum[stratum['gender=f'] == 0]['predicted_prob']\n",
    "    group2 = stratum[stratum['gender=f'] == 1]['predicted_prob']\n",
    "\n",
    "    # Perform a t-test or a non-parametric test\n",
    "    if len(group1) > 0 and len(group2) > 0:\n",
    "        t_stat, p_value = stats.ttest_ind(group1, group2, equal_var=False)\n",
    "        p_values.append(p_value)\n",
    "\n",
    "# Calculate and print the average p-value\n",
    "if p_values:\n",
    "    average_p_value = np.mean(p_values)\n",
    "    print(f'Average P-value across binary variable categories: {average_p_value}')\n",
    "else:\n",
    "    print(\"No valid tests could be performed due to insufficient data.\")\n"
   ]
  },
  {
   "cell_type": "code",
   "execution_count": 307,
   "metadata": {},
   "outputs": [
    {
     "data": {
      "image/png": "[encoded data removed]",
      "text/plain": [
       "<Figure size 1200x600 with 1 Axes>"
      ]
     },
     "metadata": {},
     "output_type": "display_data"
    }
   ],
   "source": [
    "import pandas as pd\n",
    "import matplotlib.pyplot as plt\n",
    "import seaborn as sns\n",
    "\n",
    "results = ['0.41488502475069927', '0.19575071591674534', '0.36930858362114405', '0.28082664219317766']\n",
    "types = ['Age', 'Score Sum', 'Jaundice', 'Used app before']\n",
    "\n",
    "# Convert string p-values to float\n",
    "p_values = [float(val) for val in results]\n",
    "\n",
    "# Create DataFrame\n",
    "data = pd.DataFrame({\n",
    "    'Stratum': types,\n",
    "    'P-Value': p_values\n",
    "})\n",
    "\n",
    "plt.figure(figsize=(12, 6))\n",
    "sns.barplot(x='Stratum', y='P-Value', data=data, palette='muted')\n",
    "plt.title('P-Values Across Different Strata')\n",
    "plt.ylabel('P-Value')\n",
    "plt.xlabel('Stratum')\n",
    "plt.xticks(rotation=45)\n",
    "plt.show()\n"
   ]
  },
  {
   "cell_type": "code",
   "execution_count": null,
   "metadata": {},
   "outputs": [],
   "source": []
  }
 ],
 "metadata": {
  "kernelspec": {
   "display_name": "Python 3",
   "language": "python",
   "name": "python3"
  },
  "language_info": {
   "codemirror_mode": {
    "name": "ipython",
    "version": 3
   },
   "file_extension": ".py",
   "mimetype": "text/x-python",
   "name": "python",
   "nbconvert_exporter": "python",
   "pygments_lexer": "ipython3",
   "version": "3.10.0"
  }
 },
 "nbformat": 4,
 "nbformat_minor": 2
}
