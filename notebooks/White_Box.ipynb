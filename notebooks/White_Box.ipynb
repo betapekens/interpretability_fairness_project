{
 "cells": [
  {
   "cell_type": "code",
   "execution_count": 73,
   "metadata": {},
   "outputs": [],
   "source": [
    "import pygam\n",
    "from src.load import load\n",
    "from src.preprocess import preprocess\n",
    "from pygam import LogisticGAM, s, f\n",
    "from src.train import cross_validation\n",
    "import numpy as np"
   ]
  },
  {
   "cell_type": "code",
   "execution_count": 74,
   "metadata": {},
   "outputs": [
    {
     "name": "stdout",
     "output_type": "stream",
     "text": [
      "Loading data ...\n",
      "Encoding variables ...\n"
     ]
    }
   ],
   "source": [
    "df = load(\"data/train.csv\")\n",
    "df.dropna(inplace=True)\n",
    "X, y = preprocess(df)\n",
    "X[\"y\"] = y\n",
    "X.dropna(inplace=True)\n",
    "X.reset_index(drop=True, inplace=True)\n",
    "X_t = X.drop(\"y\", axis=1)\n",
    "y_t = X[[\"y\"]]"
   ]
  },
  {
   "cell_type": "code",
   "execution_count": 76,
   "metadata": {},
   "outputs": [],
   "source": [
    "gam = LogisticGAM(\n",
    "    #f(0) + s(1) + s(2)\n",
    "    )"
   ]
  },
  {
   "cell_type": "code",
   "execution_count": 78,
   "metadata": {},
   "outputs": [
    {
     "name": "stdout",
     "output_type": "stream",
     "text": [
      "fitting:  0\n",
      "predicting:  0\n",
      "fitting:  1\n",
      "did not converge\n",
      "predicting:  1\n",
      "fitting:  2\n",
      "predicting:  2\n",
      "fitting:  3\n",
      "did not converge\n",
      "predicting:  3\n",
      "fitting:  4\n",
      "predicting:  4\n"
     ]
    }
   ],
   "source": [
    "from sklearn.metrics import roc_auc_score\n",
    "from sklearn.model_selection import KFold\n",
    "\n",
    "# Create a list to store the ROC AUC scores for each fold\n",
    "roc_auc_scores = []\n",
    "\n",
    "# Define the number of cross-validation folds\n",
    "num_folds = 5\n",
    "\n",
    "# Initialize a KFold splitter\n",
    "kf = KFold(n_splits=num_folds)\n",
    "\n",
    "# Perform cross-validation\n",
    "c = 0\n",
    "for train_index, test_index in kf.split(X):\n",
    "    \n",
    "    X_train, X_test = X_t.loc[train_index], X_t.loc[test_index]\n",
    "    y_train, y_test = y_t.loc[train_index], y_t.loc[test_index]\n",
    "\n",
    "    # Fit the model on the training data\n",
    "    print(\"fitting: \", c)\n",
    "    gam.fit(X_train, y_train)\n",
    "\n",
    "    # Make predictions on the test data\n",
    "    print(\"predicting: \", c)\n",
    "    y_pred = gam.predict_proba(X_test)  # Probability of the positive class\n",
    "\n",
    "    # Compute the ROC AUC score for this fold\n",
    "    roc_auc = roc_auc_score(y_test, y_pred)\n",
    "    roc_auc_scores.append(roc_auc)\n",
    "    c+=1\n"
   ]
  },
  {
   "cell_type": "code",
   "execution_count": 79,
   "metadata": {},
   "outputs": [
    {
     "data": {
      "text/plain": [
       "[0.875,\n",
       " 0.8693957115009747,\n",
       " 0.9292323080770194,\n",
       " 0.9108148148148147,\n",
       " 0.9141977683724509]"
      ]
     },
     "execution_count": 79,
     "metadata": {},
     "output_type": "execute_result"
    }
   ],
   "source": [
    "roc_auc_scores"
   ]
  },
  {
   "cell_type": "code",
   "execution_count": 80,
   "metadata": {},
   "outputs": [
    {
     "data": {
      "text/plain": [
       "0.899728120553052"
      ]
     },
     "execution_count": 80,
     "metadata": {},
     "output_type": "execute_result"
    }
   ],
   "source": [
    "np.array(roc_auc_scores).mean()"
   ]
  }
 ],
 "metadata": {
  "kernelspec": {
   "display_name": ".venv",
   "language": "python",
   "name": "python3"
  },
  "language_info": {
   "codemirror_mode": {
    "name": "ipython",
    "version": 3
   },
   "file_extension": ".py",
   "mimetype": "text/x-python",
   "name": "python",
   "nbconvert_exporter": "python",
   "pygments_lexer": "ipython3",
   "version": "3.10.0"
  }
 },
 "nbformat": 4,
 "nbformat_minor": 2
}
